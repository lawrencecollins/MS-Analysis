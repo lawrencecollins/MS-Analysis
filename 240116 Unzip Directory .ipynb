{
 "cells": [
  {
   "cell_type": "code",
   "execution_count": 3,
   "id": "5161f0a5",
   "metadata": {},
   "outputs": [],
   "source": [
    "import os\n",
    "import zipfile"
   ]
  },
  {
   "cell_type": "code",
   "execution_count": 4,
   "id": "9f7b3929",
   "metadata": {},
   "outputs": [],
   "source": [
    "# folder containing your zip files\n",
    "directory = \"D:\\\\WORK\\\\unzip test\"\n",
    "\n",
    "zip_files = [x for x in os.listdir(directory) if x[-4:] == \".zip\"]\n",
    "\n",
    "# unzips into same folder\n",
    "for file in zip_files:\n",
    "    path = os.path.join(directory, file)\n",
    "    with zipfile.ZipFile(path,\"r\") as zip_ref:\n",
    "        zip_ref.extractall(directory)"
   ]
  }
 ],
 "metadata": {
  "kernelspec": {
   "display_name": "Python 3 (ipykernel)",
   "language": "python",
   "name": "python3"
  },
  "language_info": {
   "codemirror_mode": {
    "name": "ipython",
    "version": 3
   },
   "file_extension": ".py",
   "mimetype": "text/x-python",
   "name": "python",
   "nbconvert_exporter": "python",
   "pygments_lexer": "ipython3",
   "version": "3.8.18"
  }
 },
 "nbformat": 4,
 "nbformat_minor": 5
}
