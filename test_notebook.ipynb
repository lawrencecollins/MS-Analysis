{
 "cells": [
  {
   "cell_type": "code",
   "execution_count": 1,
   "metadata": {},
   "outputs": [],
   "source": [
    "from UniDec import unidec\n",
    "import matplotlib.pyplot as plt\n",
    "import numpy as np\n",
    "import sqlite3\n",
    "import numpy as np\n",
    "from ctypes import *\n",
    "import sys\n",
    "import os\n",
    "import baf2sql"
   ]
  },
  {
   "cell_type": "code",
   "execution_count": 2,
   "metadata": {},
   "outputs": [
    {
     "name": "stdout",
     "output_type": "stream",
     "text": [
      "Specified BAF has 159 spectra with line and profile data.\n"
     ]
    }
   ],
   "source": [
    "analysis_dir = \"example_analysis.d\"\n",
    "\n",
    "# --- data extraction using baf2sql DLL \n",
    "\n",
    "if sys.version_info.major == 2:\n",
    "    # note: assuming a european Windows here...\n",
    "    analysis_dir = unicode(analysis_dir, 'cp1252')\n",
    "    \n",
    "baf_fn = os.path.join(analysis_dir, \"analysis.baf\")\n",
    "sqlite_fn = baf2sql.getSQLiteCacheFilename(baf_fn)\n",
    "conn = sqlite3.connect(sqlite_fn)\n",
    "\n",
    "# --- Count spectra\n",
    "q = conn.execute(\"SELECT COUNT(*) FROM Spectra \"\n",
    "                 \"WHERE LineMzId NOT NULL AND ProfileMzId NOT NULL\")\n",
    "row = q.fetchone()\n",
    "N = row[0]\n",
    "print(\"Specified BAF has {} spectra with line and profile data.\".format(N))\n",
    "\n",
    "# --- Plot TIC and BPC over MS^1 spectra\n",
    "q = conn.execute(\"SELECT Rt, SumIntensity, MaxIntensity FROM Spectra s \"\n",
    "                 \"JOIN AcquisitionKeys ak ON s.AcquisitionKey = ak.Id \"\n",
    "                 \"WHERE ak.MsLevel = 0 \"\n",
    "                 \"ORDER BY s.ROWID\")\n",
    "data = [ row for row in q ]\n",
    "rt = [ row[0] for row in data ]\n",
    "tic = [ row[1] for row in data ]\n",
    "bpc = [ row[2] for row in data ]\n",
    "\n",
    "# plt.figure()\n",
    "# plt.plot(rt, tic)\n",
    "# # plt.hold(True)\n",
    "# plt.plot(rt, bpc, '--')\n",
    "# plt.xlabel('retention time / s')\n",
    "# plt.ylabel('intensity / a.u.')\n",
    "# plt.legend(['TIC', 'BPC'])\n",
    "# plt.show()\n",
    "\n",
    "\n",
    "# --- Plot mean spectrum within time window\n",
    "\n",
    "np_bpc = np.array(bpc, dtype = 'float')\n",
    "\n",
    "# get time window around base-peak intensity \n",
    "rt_range = rt[np.nanargmax(np_bpc) - 5: np.nanargmax(np_bpc) + 6]\n",
    "\n",
    "spec_vals = {'profile_mz':[], 'profile_int':[], 'line_mz':[], 'line_int':[]}\n",
    "\n",
    "for i in rt_range: \n",
    "\n",
    "    q = conn.execute(\"SELECT LineMzId, LineIntensityId, ProfileMzId, ProfileIntensityId FROM Spectra \"\n",
    "                    \"WHERE ABS(Rt - {}) < 1e-8\".format(i))\n",
    "                \n",
    "    row = q.fetchone()\n",
    "\n",
    "    bs = baf2sql.BinaryStorage(baf_fn)\n",
    "\n",
    "    if not all(row) == False: # check for None values\n",
    "\n",
    "        bs = baf2sql.BinaryStorage(baf_fn)\n",
    "\n",
    "        profile_mz = bs.readArrayDouble(row[2])\n",
    "        profile_int = bs.readArrayDouble(row[3])\n",
    "\n",
    "        spec_vals['profile_mz'].append(profile_mz)\n",
    "        spec_vals['profile_int'].append(profile_int)\n",
    "\n",
    "\n",
    "        line_mz = bs.readArrayDouble(row[0])\n",
    "        line_int = bs.readArrayDouble(row[1])\n",
    "\n",
    "        # stem() can take quite some time, so we reduce data for this example:\n",
    "\n",
    "        max_points = 100;\n",
    "\n",
    "        if len(line_mz) > max_points:\n",
    "            line_mz = line_mz[0:max_points]\n",
    "            line_int = line_int[0:max_points]\n",
    "        \n",
    "        spec_vals['line_mz'].append(line_mz)\n",
    "        spec_vals['line_int'].append(line_int)\n",
    "\n",
    "\n"
   ]
  },
  {
   "cell_type": "code",
   "execution_count": 3,
   "metadata": {},
   "outputs": [
    {
     "data": {
      "image/png": "[encoded data removed]",
      "text/plain": [
       "<Figure size 720x480 with 1 Axes>"
      ]
     },
     "metadata": {
      "needs_background": "light"
     },
     "output_type": "display_data"
    }
   ],
   "source": [
    "# --- plot mean data within a time window \n",
    "\n",
    "# convert resulting spectra values into arrays\n",
    "np_profile_mz = np.array(spec_vals['profile_mz'])\n",
    "np_profile_int = np.array(spec_vals['profile_int'])\n",
    "\n",
    "# np_line_mz = np.array(spec_vals['line_mz'])\n",
    "# np_line_int = np.array(spec_vals['line_int'])\n",
    "\n",
    "# take average of arrays \n",
    "mean_profile_mz = np.average(np_profile_mz, axis = 0)\n",
    "mean_profile_int = np.average(np_profile_int, axis = 0)\n",
    "# mean_line_mz = np.average(np_profile_mz, axis = 0)\n",
    "# mean_line_int = np.average(np_profile_mz, axis = 0)\n",
    "\n",
    "plt.figure(dpi = 120)\n",
    "\n",
    "# plot profile spectrum\n",
    "plt.plot(mean_profile_mz, mean_profile_int, linewidth = 0.5, color = 'red')\n",
    "\n",
    "# # plot line spectrum\n",
    "# plt.stem(line_mz, line_int)\n",
    "\n",
    "plt.xlabel(\"m/z / Th\")\n",
    "plt.ylabel('intensity / a.u.')\n",
    "plt.title(\"Mean Spectrum between {}s and {}s\".format(rt_range[0], rt_range[-1]))\n",
    "plt.show()"
   ]
  },
  {
   "cell_type": "markdown",
   "metadata": {},
   "source": [
    "Need to figure out: \n",
    "- directly inputting numpy arrays into the unidec engine - raw txt file is created when uploading the data '_rawdata.txt'\n",
    "- Changing the parameters \n",
    "- where everything is!!!\n",
    "\n"
   ]
  },
  {
   "cell_type": "code",
   "execution_count": 4,
   "metadata": {},
   "outputs": [],
   "source": [
    "# --- TEMPORARY SOLUTION: make .txt file and subsequently upload into unidec engine \n",
    "# begin unidec engine here? \n",
    "\n",
    "\n",
    "mean_data = np.array([mean_profile_mz, mean_profile_int]).T\n",
    "np.savetxt(\"mean_data1.txt\", mean_data, delimiter = \"\\t\")"
   ]
  },
  {
   "cell_type": "code",
   "execution_count": 5,
   "metadata": {},
   "outputs": [
    {
     "name": "stdout",
     "output_type": "stream",
     "text": [
      "\n",
      "UniDec Engine v.4.4.0\n",
      "\n",
      "UniDec Path: C:\\Users\\cm19ljc\\Documents\\GitHub\\MS-Analysis\\UniDec\\unidec_bin\\UniDec.exe\n",
      "Opening File:  mean_data1.txt\n",
      "Loading Time: 5.4s\n",
      "Linear False\n",
      "Data Prep Time: 0.91s\n",
      "UniDec run 5.8s\n",
      "File Name:  mean_data1.txt R Squared:  0.9922255094651705\n"
     ]
    },
    {
     "data": {
      "image/png": "[encoded data removed]",
      "text/plain": [
       "<Figure size 432x288 with 2 Axes>"
      ]
     },
     "metadata": {
      "needs_background": "light"
     },
     "output_type": "display_data"
    }
   ],
   "source": [
    "eng1 = unidec.UniDec()\n",
    "eng1.open_file(\"mean_data1.txt\")\n",
    "\n",
    "\n",
    "# set params\n",
    "eng1.config.smooth = 0\n",
    "eng1.config.subbuff = 0 \n",
    "eng1.config.massub = 13000\n",
    "eng1.config.masslb = 11500\n",
    "eng1.config.massbins = 0.1\n",
    "eng1.config.peaknorm = 0\n",
    "eng1.config.datanorm = 0\n",
    "eng1.config.mzsig  = 0 # this one!!!!!!!\n",
    "# eng1.config.peakshapeinflate = 1.0 # default?\n",
    "\n",
    "\n",
    "\n",
    "eng1.process_data()\n",
    "eng1.run_unidec()\n",
    "# eng1.pick_peaks()\n",
    "# eng1.process_mass_data()\n",
    "eng1.make_plot()"
   ]
  },
  {
   "cell_type": "code",
   "execution_count": 6,
   "metadata": {},
   "outputs": [
    {
     "data": {
      "image/png": "[encoded data removed]",
      "text/plain": [
       "<Figure size 432x288 with 1 Axes>"
      ]
     },
     "metadata": {
      "needs_background": "light"
     },
     "output_type": "display_data"
    }
   ],
   "source": [
    "mass_dist_data = np.loadtxt(\"mean_data1_unidecfiles/mean_data1_mass.txt\")\n",
    "\n",
    "dist_data = mass_dist_data\n",
    "\n",
    "plt.plot(dist_data[:, 0], dist_data[:, 1])\n",
    "plt.xlim(12715, 12740)\n",
    "plt.xlabel('Mass (Da)')\n",
    "plt.ylabel('Intensity')\n",
    "plt.show()"
   ]
  },
  {
   "cell_type": "code",
   "execution_count": 17,
   "metadata": {},
   "outputs": [
    {
     "name": "stdout",
     "output_type": "stream",
     "text": [
      "Exported data to mean_data1_unidecfiles\\mean_data1_chargedata.dat\n",
      "Mass MassStdGuess AvgCharge StdDevCharge Height Area MassCentroid MassFWHM MassErrorBetweenZ\n",
      "[[ 11813.20  0.00  9.34  2.66  29819.62  1392249.89  11813.16  0.70  0.76]\n",
      " [ 12727.40  0.00  9.21  1.42  95975.10  1854099.19  12727.41  0.60  0.42]]\n",
      "Peak Parameters (Saved To mean_data1_unidecfiles\\mean_data1_peakparam.dat )\n"
     ]
    },
    {
     "data": {
      "text/plain": [
       "array([[1.18e+04, 0.00e+00, 9.34e+00, 2.66e+00, 2.98e+04, 1.39e+06,\n",
       "        1.18e+04, 7.00e-01, 7.60e-01],\n",
       "       [1.27e+04, 0.00e+00, 9.21e+00, 1.42e+00, 9.60e+04, 1.85e+06,\n",
       "        1.27e+04, 6.01e-01, 4.23e-01]])"
      ]
     },
     "execution_count": 17,
     "metadata": {},
     "output_type": "execute_result"
    }
   ],
   "source": [
    "eng1.pick_peaks()\n",
    "eng1.export_params(0)\n",
    "eng1.peakparams"
   ]
  },
  {
   "cell_type": "code",
   "execution_count": 28,
   "metadata": {},
   "outputs": [
    {
     "name": "stdout",
     "output_type": "stream",
     "text": [
      "\n",
      "UniDec Engine v.4.4.0\n",
      "\n",
      "UniDec Path: C:\\Users\\cm19ljc\\Documents\\GitHub\\MS-Analysis\\UniDec\\unidec_bin\\UniDec.exe\n",
      "Opening File:  mean_data.txt\n",
      "Loading Time: 5.3s\n",
      "396512 1.0\n",
      "Linear False\n",
      "Data Prep Time: 0.96s\n",
      "UniDec run 2.8s\n",
      "File Name:  mean_data.txt R Squared:  0.9886445190461032\n",
      "1509 10\n"
     ]
    }
   ],
   "source": [
    "# mass_range = [11500.0, 13000.0]\n",
    "\n",
    "# --- start up unidec engine and load text file\n",
    "\n",
    "\n",
    "eng = unidec.UniDec()\n",
    "\n",
    "eng.open_file(\"mean_data.txt\") # change this\n",
    "\n",
    "eng.process_data()\n",
    "eng.run_unidec()\n",
    "eng.pick_peaks()\n",
    "eng.process_mass_data()\n",
    "\n",
    "\n"
   ]
  },
  {
   "cell_type": "code",
   "execution_count": 30,
   "metadata": {},
   "outputs": [
    {
     "data": {
      "image/png": "[encoded data removed]",
      "text/plain": [
       "<Figure size 432x288 with 1 Axes>"
      ]
     },
     "metadata": {
      "needs_background": "light"
     },
     "output_type": "display_data"
    }
   ],
   "source": [
    "mass_dist_data = np.loadtxt(\"mean_data_unidecfiles/mean_data_mass.txt\")\n",
    "\n",
    "dist_data = mass_dist_data.T\n",
    "\n",
    "plt.plot(dist_data[0], dist_data[1])\n",
    "plt.xlabel('Mass (Da)')\n",
    "plt.ylabel('%')\n",
    "plt.show()"
   ]
  },
  {
   "cell_type": "code",
   "execution_count": 7,
   "metadata": {},
   "outputs": [
    {
     "data": {
      "image/png": "[encoded data removed]",
      "text/plain": [
       "<Figure size 432x288 with 2 Axes>"
      ]
     },
     "metadata": {
      "needs_background": "light"
     },
     "output_type": "display_data"
    }
   ],
   "source": [
    "eng.make_plot() # uses self.data.data2[:, 0], self.data.data2[:, 1]\n",
    "                # self.data.rawdata[:, 0], self.data.rawdata[:, 1]\n",
    "                # self.data.massdat[:, 0], self.data.massdat[:, 1]"
   ]
  },
  {
   "cell_type": "code",
   "execution_count": 8,
   "metadata": {},
   "outputs": [
    {
     "name": "stdout",
     "output_type": "stream",
     "text": [
      "(392765,) (0,) (0,) (396512, 2) (0,) (392765, 2) (0,) (1509, 2) (19638250, 3) (75450,) (50,) (0,) (0,) (0,)\n"
     ]
    }
   ],
   "source": [
    "print(eng.data.fitdat.shape, eng.data.baseline.shape, eng.data.fitdat2d.shape, \n",
    "      eng.data.rawdata.shape,eng.data.rawdata3.shape, eng.data.data2.shape,\n",
    "      eng.data.data3.shape,eng.data.massdat.shape,eng.data.mzgrid.shape, \n",
    "      eng.data.massgrid.shape, eng.data.ztab.shape, eng.data.massccs.shape, \n",
    "      eng.data.ccsz.shape, eng.data.ccsdata.shape)\n",
    "# data2 = processed data?\n",
    "# massdat = deconvoluted data\n"
   ]
  },
  {
   "cell_type": "code",
   "execution_count": 9,
   "metadata": {},
   "outputs": [
    {
     "data": {
      "image/png": "[encoded data removed]",
      "text/plain": [
       "<Figure size 432x288 with 1 Axes>"
      ]
     },
     "metadata": {
      "needs_background": "light"
     },
     "output_type": "display_data"
    }
   ],
   "source": []
  },
  {
   "cell_type": "code",
   "execution_count": 12,
   "metadata": {},
   "outputs": [
    {
     "name": "stdout",
     "output_type": "stream",
     "text": [
      "Linear False\n",
      "Data Prep Time: 0.93s\n",
      "Automatic Peak Width: 0.03111\n",
      "UniDec run 2.7s\n",
      "File Name:  mean_data.txt R Squared:  0.9816190653873914\n",
      "Exported data to mean_data_unidecfiles\\mean_data_chargedata.dat\n",
      "Mass MassStdGuess AvgCharge StdDevCharge Height Area MassCentroid MassFWHM MassErrorBetweenZ\n",
      "[[ 11813.00  0.29  9.30  2.76  30.54  75.36  11813.39  9.00  3.48]\n",
      " [ 12728.00  0.29  9.41  2.29  100.00  100.00  12728.32  9.00  0.09]]\n",
      "Peak Parameters (Saved To mean_data_unidecfiles\\mean_data_peakparam.dat )\n"
     ]
    }
   ],
   "source": [
    "# eng.export_params(e = None)\n",
    "\n",
    "eng.autorun()"
   ]
  },
  {
   "cell_type": "code",
   "execution_count": 13,
   "metadata": {},
   "outputs": [
    {
     "data": {
      "text/plain": [
       "array([[1.18e+04, 2.89e-01, 9.30e+00, 2.76e+00, 3.05e+01, 7.54e+01,\n",
       "        1.18e+04, 9.00e+00, 3.48e+00],\n",
       "       [1.27e+04, 2.93e-01, 9.41e+00, 2.29e+00, 1.00e+02, 1.00e+02,\n",
       "        1.27e+04, 9.00e+00, 8.91e-02]])"
      ]
     },
     "execution_count": 13,
     "metadata": {},
     "output_type": "execute_result"
    }
   ],
   "source": [
    "eng.peakparams"
   ]
  },
  {
   "cell_type": "code",
   "execution_count": 14,
   "metadata": {},
   "outputs": [
    {
     "name": "stdout",
     "output_type": "stream",
     "text": [
      "~~~~~~~~~~~~~\n",
      "Peak 1\n",
      "Mass: 11813.0\n",
      "MassStdGuess: 0.2891747547487561\n",
      "AvgCharge: 9.295234803881584\n",
      "StdDevCharge: 2.760065692286716\n",
      "Height: 30.540964436340662\n",
      "Area: 75.35691375420045\n",
      "MassCentroid: 11813.39077242513\n",
      "MassFWHM: 9.0\n",
      "MassErrorBetweenZ: 3.482798072165886\n",
      "~~~~~~~~~~~~~\n",
      "Peak 2\n",
      "Mass: 12728.0\n",
      "MassStdGuess: 0.29276137678732417\n",
      "AvgCharge: 9.41052320113546\n",
      "StdDevCharge: 2.2935476000703474\n",
      "Height: 100.0\n",
      "Area: 100.0\n",
      "MassCentroid: 12728.323078291636\n",
      "MassFWHM: 9.0\n",
      "MassErrorBetweenZ: 0.08909934232171109\n",
      "~~~~~~~~~~~~~\n"
     ]
    }
   ],
   "source": [
    "peak_param_names = [\"Mass\", \"MassStdGuess\", \"AvgCharge\", \"StdDevCharge\", \"Height\", \n",
    "                    \"Area\", \"MassCentroid\", \"MassFWHM\", \"MassErrorBetweenZ\"]\n",
    "\n",
    "# get peak info \n",
    "for x, y in zip(eng.peakparams, list(range(len(eng.peakparams)))):\n",
    "    print(\"~~~~~~~~~~~~~\")\n",
    "    \n",
    "    print(\"Peak {}\".format(y+1))\n",
    "    \n",
    "    for i, j in zip(peak_param_names, x):\n",
    "        print(\"{}: {}\".format(i, j))\n",
    "print(\"~~~~~~~~~~~~~\")"
   ]
  },
  {
   "cell_type": "code",
   "execution_count": 27,
   "metadata": {},
   "outputs": [
    {
     "name": "stdout",
     "output_type": "stream",
     "text": [
      "Automatic Peak Width: 0.03111\n",
      "Exported data to mean_data1_unidecfiles\\mean_data1_chargedata.dat\n",
      "Mass MassStdGuess AvgCharge StdDevCharge Height Area MassCentroid MassFWHM MassErrorBetweenZ\n",
      "[[ 11813.20  0.29  9.34  2.66  29819.62  1392249.89  11813.16  0.70  0.76]\n",
      " [ 12727.40  0.29  9.21  1.42  95975.10  1854099.19  12727.41  0.60  0.42]]\n",
      "Peak Parameters (Saved To mean_data1_unidecfiles\\mean_data1_peakparam.dat )\n",
      "Linear False\n",
      "Data Prep Time: 0.9s\n",
      "Automatic Peak Width: 0.03111\n",
      "UniDec run 6.1s\n",
      "File Name:  mean_data1.txt R Squared:  0.9814049962600995\n",
      "Exported data to mean_data1_unidecfiles\\mean_data1_chargedata.dat\n",
      "Mass MassStdGuess AvgCharge StdDevCharge Height Area MassCentroid MassFWHM MassErrorBetweenZ\n",
      "[[ 11813.20  0.29  9.26  2.56  29537.01  1415544.19  11813.16  0.70  0.27]\n",
      " [ 12727.40  0.29  9.24  1.70  94696.73  1877726.13  12727.44  0.70  0.33]]\n",
      "Peak Parameters (Saved To mean_data1_unidecfiles\\mean_data1_peakparam.dat )\n"
     ]
    }
   ],
   "source": [
    "eng1.get_auto_peak_width()\n",
    "eng1.pick_peaks()\n",
    "eng1.export_params(0)\n",
    "eng1.autorun()"
   ]
  },
  {
   "cell_type": "code",
   "execution_count": 33,
   "metadata": {},
   "outputs": [
    {
     "name": "stdout",
     "output_type": "stream",
     "text": [
      "UniDec run 6.1s\n",
      "File Name:  mean_data1.txt R Squared:  0.9814049962600995\n"
     ]
    }
   ],
   "source": [
    "eng1.run_unidec()\n",
    "eng1.process_mass_data()\n",
    "eng1.pick_peaks()"
   ]
  },
  {
   "cell_type": "code",
   "execution_count": 35,
   "metadata": {},
   "outputs": [
    {
     "data": {
      "text/plain": [
       "0.03111"
      ]
     },
     "execution_count": 35,
     "metadata": {},
     "output_type": "execute_result"
    }
   ],
   "source": [
    "eng1.config.mzsig"
   ]
  },
  {
   "cell_type": "code",
   "execution_count": 34,
   "metadata": {},
   "outputs": [
    {
     "data": {
      "image/png": "[encoded data removed]",
      "text/plain": [
       "<Figure size 432x288 with 1 Axes>"
      ]
     },
     "metadata": {
      "needs_background": "light"
     },
     "output_type": "display_data"
    }
   ],
   "source": [
    "mass_dist_data = np.loadtxt(\"mean_data1_unidecfiles/mean_data1_mass.txt\")\n",
    "\n",
    "dist_data = mass_dist_data\n",
    "\n",
    "plt.plot(dist_data[:, 0], dist_data[:, 1])\n",
    "plt.xlim(12715, 12740)\n",
    "plt.xlabel('Mass (Da)')\n",
    "plt.ylabel('Intensity')\n",
    "plt.show()"
   ]
  },
  {
   "cell_type": "code",
   "execution_count": 25,
   "metadata": {},
   "outputs": [
    {
     "name": "stdout",
     "output_type": "stream",
     "text": [
      "~~~~~~~~~~~~~\n",
      "Peak 1\n",
      "Mass: 11813.200195\n",
      "MassStdGuess: 0.29068286524869313\n",
      "AvgCharge: 9.343711515547835\n",
      "StdDevCharge: 2.660081380603362\n",
      "Height: 29819.617188\n",
      "Area: 1392249.891693459\n",
      "MassCentroid: 11813.156534962294\n",
      "MassFWHM: 0.7001949999994395\n",
      "MassErrorBetweenZ: 0.7595671041276918\n",
      "~~~~~~~~~~~~~\n",
      "Peak 2\n",
      "Mass: 12727.400391\n",
      "MassStdGuess: 0.28655436068263945\n",
      "AvgCharge: 9.211004843543538\n",
      "StdDevCharge: 1.4205831613245556\n",
      "Height: 95975.101563\n",
      "Area: 1854099.186135805\n",
      "MassCentroid: 12727.406605130844\n",
      "MassFWHM: 0.6005859999986569\n",
      "MassErrorBetweenZ: 0.4227469255832586\n",
      "~~~~~~~~~~~~~\n"
     ]
    }
   ],
   "source": [
    "peak_param_names = [\"Mass\", \"MassStdGuess\", \"AvgCharge\", \"StdDevCharge\", \"Height\", \n",
    "                    \"Area\", \"MassCentroid\", \"MassFWHM\", \"MassErrorBetweenZ\"]\n",
    "\n",
    "# get peak info \n",
    "for x, y in zip(eng1.peakparams, list(range(len(eng1.peakparams)))):\n",
    "    print(\"~~~~~~~~~~~~~\")\n",
    "    \n",
    "    print(\"Peak {}\".format(y+1))\n",
    "    \n",
    "    for i, j in zip(peak_param_names, x):\n",
    "        print(\"{}: {}\".format(i, j))\n",
    "print(\"~~~~~~~~~~~~~\")"
   ]
  },
  {
   "cell_type": "code",
   "execution_count": 15,
   "metadata": {},
   "outputs": [],
   "source": [
    "# help(eng.config)"
   ]
  },
  {
   "cell_type": "code",
   "execution_count": 17,
   "metadata": {
    "scrolled": false
   },
   "outputs": [
    {
     "name": "stdout",
     "output_type": "stream",
     "text": [
      "version 4.4.0\n",
      "imflag 0\n",
      "input mean_data_unidecfiles\\mean_data_input.dat\n",
      "output mean_data_unidecfiles\\mean_data\n",
      "numit 100\n",
      "numz 50\n",
      "endz 50\n",
      "startz 1\n",
      "zzsig 1.0\n",
      "psig 1.0\n",
      "beta 0.0\n",
      "mzsig 0.03111\n",
      "psfun 0\n",
      "discreteplot 0\n",
      "massub 13000.0\n",
      "masslb 11500.0\n",
      "msig 0.0\n",
      "molig 0.0\n",
      "massbins 1.0\n",
      "mtabsig 0.0\n",
      "minmz 244.9952986816976\n",
      "maxmz 3005.214276390133\n",
      "subbuff 0.0\n",
      "subtype 2\n",
      "smooth 0.0\n",
      "mzbins 0.0\n",
      "peakwindow 500.0\n",
      "peakthresh 0.1\n",
      "peakplotthresh 0.1\n",
      "plotsep 0.025\n",
      "intthresh 0.0\n",
      "reductionpercent 0.0\n",
      "aggressive 0\n",
      "rawflag 0\n",
      "adductmass 1.007276467\n",
      "nativezub 1000.0\n",
      "nativezlb -1000.0\n",
      "poolflag 2\n",
      "accvol 0.0\n",
      "peakshapeinflate 1.0\n",
      "noiseflag 0.0\n",
      "linflag 2\n",
      "cmap nipy_spectral\n",
      "peakcmap rainbow\n",
      "spectracmap rainbow\n",
      "publicationmode 1\n",
      "isotopemode 0\n",
      "peaknorm 1.0\n",
      "datanorm 1.0\n",
      "baselineflag 1.0\n",
      "orbimode 0.0\n",
      "filterwidth 20.0\n",
      "zerolog -12.0\n",
      "\n"
     ]
    }
   ],
   "source": [
    "eng.config.print_config()"
   ]
  },
  {
   "cell_type": "code",
   "execution_count": 20,
   "metadata": {},
   "outputs": [],
   "source": [
    "class BrukerAnalysis(unidec.UniDec): \n",
    "    def __init__(self, filename, t_window = 10):\n",
    "        super().__init__()\n",
    "        self.filename = filename\n",
    "        self.t_window = t_window\n",
    "        \n",
    "    def upload_data(self):\n",
    "        analysis_dir = self.filename\n",
    "\n",
    "        # --- data extraction using baf2sql DLL \n",
    "\n",
    "        if sys.version_info.major == 2:\n",
    "            # note: assuming a european Windows here...\n",
    "            analysis_dir = unicode(analysis_dir, 'cp1252')\n",
    "\n",
    "        baf_fn = os.path.join(analysis_dir, \"analysis.baf\")\n",
    "        sqlite_fn = baf2sql.getSQLiteCacheFilename(baf_fn)\n",
    "        conn = sqlite3.connect(sqlite_fn)\n",
    "\n",
    "        # --- Count spectra\n",
    "        q = conn.execute(\"SELECT COUNT(*) FROM Spectra \"\n",
    "                         \"WHERE LineMzId NOT NULL AND ProfileMzId NOT NULL\")\n",
    "        row = q.fetchone()\n",
    "        N = row[0]\n",
    "        print(\"Specified BAF has {} spectra with line and profile data.\".format(N))\n",
    "\n",
    "        # --- Plot TIC and BPC over MS^1 spectra\n",
    "        q = conn.execute(\"SELECT Rt, SumIntensity, MaxIntensity FROM Spectra s \"\n",
    "                         \"JOIN AcquisitionKeys ak ON s.AcquisitionKey = ak.Id \"\n",
    "                         \"WHERE ak.MsLevel = 0 \"\n",
    "                         \"ORDER BY s.ROWID\")\n",
    "        data = [ row for row in q ]\n",
    "        rt = [ row[0] for row in data ]\n",
    "        tic = [ row[1] for row in data ]\n",
    "        bpc = [ row[2] for row in data ]\n",
    "\n",
    "        # --- mean spectrum within time window\n",
    "\n",
    "        np_bpc = np.array(bpc, dtype = 'float')\n",
    "\n",
    "        # get time window around base-peak intensity \n",
    "        if (self.t_window % 2 )== 0:\n",
    "        \n",
    "            rt_range = rt[np.nanargmax(np_bpc) - (self.t_window/2): np.nanargmax(np_bpc) + (self.t_window/2)+1]\n",
    "        else:\n",
    "            rt_range = rt[np.nanargmax(np_bpc) - (self.t_window/2)-0.5: np.nanargmax(np_bpc) + (self.t_window/2)+0.5]\n",
    "\n",
    "        spec_vals = {'profile_mz':[], 'profile_int':[], 'line_mz':[], 'line_int':[]}\n",
    "\n",
    "        for i in rt_range: \n",
    "\n",
    "            q = conn.execute(\"SELECT LineMzId, LineIntensityId, ProfileMzId, ProfileIntensityId FROM Spectra \"\n",
    "                            \"WHERE ABS(Rt - {}) < 1e-8\".format(i))\n",
    "\n",
    "            row = q.fetchone()\n",
    "\n",
    "            bs = baf2sql.BinaryStorage(baf_fn)\n",
    "\n",
    "            if not all(row) == False: # check for None values\n",
    "\n",
    "                bs = baf2sql.BinaryStorage(baf_fn)\n",
    "\n",
    "                profile_mz = bs.readArrayDouble(row[2])\n",
    "                profile_int = bs.readArrayDouble(row[3])\n",
    "\n",
    "                spec_vals['profile_mz'].append(profile_mz)\n",
    "                spec_vals['profile_int'].append(profile_int)\n",
    "\n",
    "\n",
    "                line_mz = bs.readArrayDouble(row[0])\n",
    "                line_int = bs.readArrayDouble(row[1])\n",
    "\n",
    "                # stem() can take quite some time, so we reduce data for this example:\n",
    "\n",
    "                max_points = 100;\n",
    "\n",
    "                if len(line_mz) > max_points:\n",
    "                    line_mz = line_mz[0:max_points]\n",
    "                    line_int = line_int[0:max_points]\n",
    "\n",
    "                spec_vals['line_mz'].append(line_mz)\n",
    "                spec_vals['line_int'].append(line_int)\n",
    "\n",
    "        # convert resulting spectra values into arrays\n",
    "        self.profile_mz = np.array(spec_vals['profile_mz'])\n",
    "        self.profile_int = np.array(spec_vals['profile_int'])\n",
    "        \n",
    "    def plot_raw_data():\n",
    "        pass"
   ]
  },
  {
   "cell_type": "code",
   "execution_count": 21,
   "metadata": {},
   "outputs": [
    {
     "name": "stdout",
     "output_type": "stream",
     "text": [
      "\n",
      "UniDec Engine v.4.4.0\n",
      "\n",
      "UniDec Path: C:\\Users\\cm19ljc\\Documents\\GitHub\\MS-Analysis\\UniDec\\unidec_bin\\UniDec.exe\n"
     ]
    }
   ],
   "source": [
    "eng2 = BrukerAnalysis(\"example_analysis.d\")\n",
    "# eng2.upload_data()\n",
    "# eng2.profile_mz"
   ]
  }
 ],
 "metadata": {
  "kernelspec": {
   "display_name": "Python 3",
   "language": "python",
   "name": "python3"
  },
  "language_info": {
   "codemirror_mode": {
    "name": "ipython",
    "version": 3
   },
   "file_extension": ".py",
   "mimetype": "text/x-python",
   "name": "python",
   "nbconvert_exporter": "python",
   "pygments_lexer": "ipython3",
   "version": "3.8.5"
  }
 },
 "nbformat": 4,
 "nbformat_minor": 2
}
