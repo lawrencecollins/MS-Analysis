{
 "cells": [
  {
   "cell_type": "code",
   "execution_count": 1,
   "id": "8352be9b",
   "metadata": {},
   "outputs": [],
   "source": [
    "from baf2sql2unidec import *\n",
    "import matplotlib.pyplot as plt\n",
    "import os\n",
    "import unidec\n",
    "from unidec.metaunidec.mudeng import MetaUniDec\n",
    "from unidec import tools as ud"
   ]
  },
  {
   "cell_type": "code",
   "execution_count": 2,
   "id": "3029f1ad",
   "metadata": {},
   "outputs": [],
   "source": [
    "def match(pks, masslist, names, tolerance):\n",
    "    matches = []\n",
    "    errors = []\n",
    "    peaks = []\n",
    "    nameslist = []\n",
    "\n",
    "    for p in pks:\n",
    "\n",
    "        target = p.mass\n",
    "    #     print(target)\n",
    "        nearpt = ud.nearestunsorted(masslist, target)\n",
    "\n",
    "        match = masslist[nearpt]\n",
    "        error = target-match\n",
    "        if np.abs(error) < tolerance: \n",
    "            name = names[nearpt]\n",
    "            p.error = error\n",
    "        else:\n",
    "            name = \"\"\n",
    "        p.label = name\n",
    "        p.match = match\n",
    "        p.matcherror = error\n",
    "\n",
    "        matches.append(match)\n",
    "        errors.append(error)\n",
    "        peaks.append(target)\n",
    "        nameslist.append(name)\n",
    "        \n",
    "    matchlist = [peaks, matches, errors, nameslist]\n",
    "    return matchlist "
   ]
  },
  {
   "cell_type": "markdown",
   "id": "8407c703",
   "metadata": {},
   "source": [
    "Updates:\n",
    "Now runs through pip installed unidec \n",
    "Improved matching algorithm\n",
    "Added upload from .d files using baf2sql (much faster than mzML)\n"
   ]
  },
  {
   "cell_type": "code",
   "execution_count": 3,
   "id": "0e1439e8",
   "metadata": {},
   "outputs": [],
   "source": [
    "# path = \"D:\\\\WORK\\\\20230710 DOE_CTB H6_5M_DAmp\\\\testing\\\\20230710 4C_24h_1.d\"\n",
    "directory = \"D:\\\\WORK\\\\20230710 DOE_CTB H6_5M_DAmp\\\\24h\"\n",
    "\n",
    "scans = [434, 481]\n",
    "\n",
    "masslist = [13597.42, 13151.97, 12559.36]\n",
    "names = [\"CTB-H6\", \"CTB-LPETGVSEYG\", \"CTB-LPET\"]\n",
    "tolerance = 10"
   ]
  },
  {
   "cell_type": "code",
   "execution_count": 4,
   "id": "a943fa49",
   "metadata": {},
   "outputs": [],
   "source": [
    "# spectrum = BafSpectrum()\n",
    "# name, data = spectrum.export_scans_from_file(path, scanstart = scans[0], scanend = scans[1])\n",
    "# plt.plot(data[:, 0], data[:, 1])\n",
    "# plt.plot(spectrum.rt, spectrum.tic)\n",
    "# plt.axvspan(spectrum.rt[scans[0]], spectrum.rt[scans[1]])"
   ]
  },
  {
   "cell_type": "code",
   "execution_count": 5,
   "id": "3843079f",
   "metadata": {},
   "outputs": [
    {
     "name": "stdout",
     "output_type": "stream",
     "text": [
      "Specified BAF has 738 spectra with line and profile data.\n",
      "Specified BAF has 745 spectra with line and profile data.\n",
      "Specified BAF has 738 spectra with line and profile data.\n",
      "Specified BAF has 738 spectra with line and profile data.\n",
      "Specified BAF has 738 spectra with line and profile data.\n",
      "Specified BAF has 739 spectra with line and profile data.\n",
      "Specified BAF has 738 spectra with line and profile data.\n",
      "Specified BAF has 738 spectra with line and profile data.\n",
      "Specified BAF has 738 spectra with line and profile data.\n",
      "Specified BAF has 738 spectra with line and profile data.\n",
      "Specified BAF has 738 spectra with line and profile data.\n",
      "Specified BAF has 739 spectra with line and profile data.\n",
      "Specified BAF has 738 spectra with line and profile data.\n",
      "Specified BAF has 738 spectra with line and profile data.\n",
      "Specified BAF has 738 spectra with line and profile data.\n",
      "Specified BAF has 738 spectra with line and profile data.\n",
      "Specified BAF has 738 spectra with line and profile data.\n",
      "Specified BAF has 738 spectra with line and profile data.\n",
      "Specified BAF has 738 spectra with line and profile data.\n",
      "Specified BAF has 738 spectra with line and profile data.\n",
      "Specified BAF has 738 spectra with line and profile data.\n",
      "Specified BAF has 738 spectra with line and profile data.\n",
      "Specified BAF has 738 spectra with line and profile data.\n",
      "Specified BAF has 738 spectra with line and profile data.\n",
      "Specified BAF has 738 spectra with line and profile data.\n",
      "Specified BAF has 738 spectra with line and profile data.\n",
      "Specified BAF has 740 spectra with line and profile data.\n",
      "Specified BAF has 739 spectra with line and profile data.\n",
      "Specified BAF has 739 spectra with line and profile data.\n",
      "Specified BAF has 739 spectra with line and profile data.\n",
      "Specified BAF has 739 spectra with line and profile data.\n",
      "Specified BAF has 738 spectra with line and profile data.\n",
      "Specified BAF has 738 spectra with line and profile data.\n",
      "Specified BAF has 738 spectra with line and profile data.\n",
      "Specified BAF has 738 spectra with line and profile data.\n",
      "Specified BAF has 738 spectra with line and profile data.\n",
      "Specified BAF has 739 spectra with line and profile data.\n",
      "Specified BAF has 738 spectra with line and profile data.\n",
      "Specified BAF has 738 spectra with line and profile data.\n",
      "Specified BAF has 738 spectra with line and profile data.\n",
      "Specified BAF has 738 spectra with line and profile data.\n",
      "Specified BAF has 738 spectra with line and profile data.\n",
      "Specified BAF has 738 spectra with line and profile data.\n",
      "Specified BAF has 738 spectra with line and profile data.\n",
      "Specified BAF has 738 spectra with line and profile data.\n",
      "Specified BAF has 738 spectra with line and profile data.\n",
      "Specified BAF has 738 spectra with line and profile data.\n",
      "Specified BAF has 738 spectra with line and profile data.\n"
     ]
    }
   ],
   "source": [
    "scans = [434, 481]\n",
    "\n",
    "spectra_names = [x for x in os.listdir(directory) if x[-2:] == \".d\"]\n",
    "\n",
    "spectra = []\n",
    "for s in spectra_names:\n",
    "    path = os.path.join(directory, s)\n",
    "    spectrum = BafSpectrum()\n",
    "    spectrum.export_scans_from_file(path, scanstart = scans[0], scanend = scans[1])\n",
    "    spectra.append(spectrum)"
   ]
  },
  {
   "cell_type": "code",
   "execution_count": 6,
   "id": "319494fd",
   "metadata": {},
   "outputs": [
    {
     "name": "stdout",
     "output_type": "stream",
     "text": [
      "\n",
      "UniDec Engine v.6.0.4\n",
      "\n",
      "UniDec Path: C:\\Users\\cm19ljc\\Anaconda3\\envs\\unidec3\\lib\\site-packages\\unidec\\bin\\unidec.exe\n"
     ]
    }
   ],
   "source": [
    "hdf5_name = os.path.split(directory)[1]+\".hdf5\"\n",
    "\n",
    "hdf5_path = os.path.join(directory, hdf5_name)\n",
    "eng= MetaUniDec()\n",
    "eng.data.new_file(hdf5_path)"
   ]
  },
  {
   "cell_type": "code",
   "execution_count": 7,
   "id": "a4add10d",
   "metadata": {},
   "outputs": [
    {
     "name": "stdout",
     "output_type": "stream",
     "text": [
      "Adding: 20230710 15C_24h_1.d to ms_dataset\n",
      "Adding: 20230710 15C_24h_10.d to ms_dataset\n",
      "Adding: 20230710 15C_24h_11.d to ms_dataset\n",
      "Adding: 20230710 15C_24h_12.d to ms_dataset\n",
      "Adding: 20230710 15C_24h_13.d to ms_dataset\n",
      "Adding: 20230710 15C_24h_14.d to ms_dataset\n",
      "Adding: 20230710 15C_24h_15.d to ms_dataset\n",
      "Adding: 20230710 15C_24h_16.d to ms_dataset\n",
      "Adding: 20230710 15C_24h_2.d to ms_dataset\n",
      "Adding: 20230710 15C_24h_3.d to ms_dataset\n",
      "Adding: 20230710 15C_24h_4.d to ms_dataset\n",
      "Adding: 20230710 15C_24h_5.d to ms_dataset\n",
      "Adding: 20230710 15C_24h_6.d to ms_dataset\n",
      "Adding: 20230710 15C_24h_7.d to ms_dataset\n",
      "Adding: 20230710 15C_24h_8.d to ms_dataset\n",
      "Adding: 20230710 15C_24h_9.d to ms_dataset\n",
      "Adding: 20230710 25C_24h_1.d to ms_dataset\n",
      "Adding: 20230710 25C_24h_10.d to ms_dataset\n",
      "Adding: 20230710 25C_24h_11.d to ms_dataset\n",
      "Adding: 20230710 25C_24h_12.d to ms_dataset\n",
      "Adding: 20230710 25C_24h_13.d to ms_dataset\n",
      "Adding: 20230710 25C_24h_14.d to ms_dataset\n",
      "Adding: 20230710 25C_24h_15.d to ms_dataset\n",
      "Adding: 20230710 25C_24h_16.d to ms_dataset\n",
      "Adding: 20230710 25C_24h_2.d to ms_dataset\n",
      "Adding: 20230710 25C_24h_3.d to ms_dataset\n",
      "Adding: 20230710 25C_24h_4.d to ms_dataset\n",
      "Adding: 20230710 25C_24h_5.d to ms_dataset\n",
      "Adding: 20230710 25C_24h_6.d to ms_dataset\n",
      "Adding: 20230710 25C_24h_7.d to ms_dataset\n",
      "Adding: 20230710 25C_24h_8.d to ms_dataset\n",
      "Adding: 20230710 25C_24h_9.d to ms_dataset\n",
      "Adding: 20230710 4C_24h_1.d to ms_dataset\n",
      "Adding: 20230710 4C_24h_10.d to ms_dataset\n",
      "Adding: 20230710 4C_24h_11.d to ms_dataset\n",
      "Adding: 20230710 4C_24h_12.d to ms_dataset\n",
      "Adding: 20230710 4C_24h_13.d to ms_dataset\n",
      "Adding: 20230710 4C_24h_14.d to ms_dataset\n",
      "Adding: 20230710 4C_24h_15.d to ms_dataset\n",
      "Adding: 20230710 4C_24h_16.d to ms_dataset\n",
      "Adding: 20230710 4C_24h_2.d to ms_dataset\n",
      "Adding: 20230710 4C_24h_3.d to ms_dataset\n",
      "Adding: 20230710 4C_24h_4.d to ms_dataset\n",
      "Adding: 20230710 4C_24h_5.d to ms_dataset\n",
      "Adding: 20230710 4C_24h_6.d to ms_dataset\n",
      "Adding: 20230710 4C_24h_7.d to ms_dataset\n",
      "Adding: 20230710 4C_24h_8.d to ms_dataset\n",
      "Adding: 20230710 4C_24h_9.d to ms_dataset\n"
     ]
    }
   ],
   "source": [
    "for s in spectra:\n",
    "    \n",
    "    eng.data.add_data(s.data2, name=s.name, export=False)\n",
    "eng.data.export_hdf5()"
   ]
  },
  {
   "cell_type": "code",
   "execution_count": 8,
   "id": "4271088d",
   "metadata": {},
   "outputs": [],
   "source": [
    "# Parameters\n",
    "# UniDec\n",
    "eng.config.minmz=750\n",
    "eng.config.numit = 100\n",
    "eng.config.zzsig = 1\n",
    "eng.config.psig = 1\n",
    "eng.config.beta = 1\n",
    "eng.config.startz = 1\n",
    "eng.config.endz = 100\n",
    "eng.config.numz = 100\n",
    "eng.config.mzsig = 0.85\n",
    "eng.config.automzsig = 0\n",
    "eng.config.psfun = 0\n",
    "eng.config.psfunz = 0\n",
    "eng.config.autopsfun = 0\n",
    "eng.config.massub = 17000\n",
    "eng.config.masslb = 12000\n",
    "eng.config.msig = 0\n",
    "eng.config.molig = 0\n",
    "eng.config.massbins = 1\n",
    "eng.config.adductmass = 1.007276467\n",
    "eng.config.baselineflag = 1\n",
    "eng.config.aggressiveflag = 0\n",
    "eng.config.noiseflag = 0\n",
    "eng.config.isotopemode = 0\n",
    "eng.config.orbimode = 0\n",
    "\n",
    "# Other\n",
    "eng.config.mtabsig = 0\n",
    "eng.config.poolflag = 2\n",
    "eng.config.nativezub = 1000\n",
    "eng.config.nativezlb = -1000\n",
    "eng.config.inflate = 1\n",
    "eng.config.linflag = 2\n",
    "eng.config.integratelb = \"\"\n",
    "eng.config.integrateub = \"\"\n",
    "eng.config.filterwidth = 20\n",
    "eng.config.zerolog = -12\n",
    "\n",
    "eng.config.datanorm = 1\n",
    "eng.config.subuff=0\n",
    "eng.config.subtype=2\n",
    "\n",
    "# peak picking\n",
    "eng.config.peakwindow = 10\n",
    "eng.config.peaknorm = 0\n",
    "eng.config.peakplotthresh = 0.1 \n",
    "eng.config.peakthresh = 0.01\n",
    "\n",
    "\n",
    "eng.config.datanorm = 0\n",
    "eng.config.exnorm = 0\n",
    "eng.config.write_hdf5()"
   ]
  },
  {
   "cell_type": "code",
   "execution_count": null,
   "id": "68d4d3ef",
   "metadata": {},
   "outputs": [],
   "source": []
  },
  {
   "cell_type": "code",
   "execution_count": 9,
   "id": "90d6645f",
   "metadata": {},
   "outputs": [
    {
     "name": "stdout",
     "output_type": "stream",
     "text": [
      "Mass Grid Warning: (0,) (0,)\n",
      "mz grid Warning: (0,) (0,)\n",
      "Opening Time: 4.1791352999999845\n",
      "Execution Time: 2.6747127999999805\n",
      "Mass Grid Warning: (0,) (0,)\n",
      "mz grid Warning: (0,) (0,)\n",
      "Execution Time: 1979.6074061\n"
     ]
    },
    {
     "ename": "MemoryError",
     "evalue": "Unable to allocate 85.2 MiB for an array with shape (22325100,) and data type float32",
     "output_type": "error",
     "traceback": [
      "\u001b[1;31m---------------------------------------------------------------------------\u001b[0m",
      "\u001b[1;31mMemoryError\u001b[0m                               Traceback (most recent call last)",
      "Cell \u001b[1;32mIn[9], line 4\u001b[0m\n\u001b[0;32m      1\u001b[0m eng\u001b[38;5;241m.\u001b[39mopen(hdf5_path)\n\u001b[0;32m      2\u001b[0m eng\u001b[38;5;241m.\u001b[39mprocess_data()\n\u001b[1;32m----> 4\u001b[0m \u001b[43meng\u001b[49m\u001b[38;5;241;43m.\u001b[39;49m\u001b[43mrun_unidec\u001b[49m\u001b[43m(\u001b[49m\u001b[43m)\u001b[49m\n",
      "File \u001b[1;32m~\\Anaconda3\\envs\\unidec3\\lib\\site-packages\\unidec\\metaunidec\\mudeng.py:97\u001b[0m, in \u001b[0;36mMetaUniDec.run_unidec\u001b[1;34m(self)\u001b[0m\n\u001b[0;32m     95\u001b[0m \u001b[38;5;28mself\u001b[39m\u001b[38;5;241m.\u001b[39mconfig\u001b[38;5;241m.\u001b[39mwrite_hdf5()\n\u001b[0;32m     96\u001b[0m \u001b[38;5;28mself\u001b[39m\u001b[38;5;241m.\u001b[39mout \u001b[38;5;241m=\u001b[39m metaunidec_call(\u001b[38;5;28mself\u001b[39m\u001b[38;5;241m.\u001b[39mconfig)\n\u001b[1;32m---> 97\u001b[0m \u001b[38;5;28;43mself\u001b[39;49m\u001b[38;5;241;43m.\u001b[39;49m\u001b[43mdata\u001b[49m\u001b[38;5;241;43m.\u001b[39;49m\u001b[43mimport_hdf5\u001b[49m\u001b[43m(\u001b[49m\u001b[43m)\u001b[49m\n\u001b[0;32m     98\u001b[0m \u001b[38;5;28mself\u001b[39m\u001b[38;5;241m.\u001b[39mupdate_history()\n",
      "File \u001b[1;32m~\\Anaconda3\\envs\\unidec3\\lib\\site-packages\\unidec\\metaunidec\\mudstruct.py:61\u001b[0m, in \u001b[0;36mMetaDataSet.import_hdf5\u001b[1;34m(self, file, speedy)\u001b[0m\n\u001b[0;32m     59\u001b[0m \u001b[38;5;28;01melse\u001b[39;00m:\n\u001b[0;32m     60\u001b[0m     \u001b[38;5;28;01mfor\u001b[39;00m s \u001b[38;5;129;01min\u001b[39;00m \u001b[38;5;28mself\u001b[39m\u001b[38;5;241m.\u001b[39mspectra:\n\u001b[1;32m---> 61\u001b[0m         \u001b[43ms\u001b[49m\u001b[38;5;241;43m.\u001b[39;49m\u001b[43mread_hdf5\u001b[49m\u001b[43m(\u001b[49m\u001b[43mfile\u001b[49m\u001b[43m,\u001b[49m\u001b[43m \u001b[49m\u001b[43mspeedy\u001b[49m\u001b[38;5;241;43m=\u001b[39;49m\u001b[43mspeedy\u001b[49m\u001b[43m,\u001b[49m\u001b[43m \u001b[49m\u001b[43mhdfobj\u001b[49m\u001b[38;5;241;43m=\u001b[39;49m\u001b[43mhdf\u001b[49m\u001b[43m)\u001b[49m\n\u001b[0;32m     63\u001b[0m \u001b[38;5;28;01mif\u001b[39;00m \u001b[38;5;129;01mnot\u001b[39;00m ud\u001b[38;5;241m.\u001b[39misempty(\u001b[38;5;28mself\u001b[39m\u001b[38;5;241m.\u001b[39mspectra):\n\u001b[0;32m     64\u001b[0m     \u001b[38;5;28mself\u001b[39m\u001b[38;5;241m.\u001b[39mdata2 \u001b[38;5;241m=\u001b[39m \u001b[38;5;28mself\u001b[39m\u001b[38;5;241m.\u001b[39mspectra[\u001b[38;5;241m0\u001b[39m]\u001b[38;5;241m.\u001b[39mdata2\n",
      "File \u001b[1;32m~\\Anaconda3\\envs\\unidec3\\lib\\site-packages\\unidec\\metaunidec\\mudstruct.py:456\u001b[0m, in \u001b[0;36mSpectrum.read_hdf5\u001b[1;34m(self, file, speedy, hdfobj)\u001b[0m\n\u001b[0;32m    453\u001b[0m     \u001b[38;5;28;01mexcept\u001b[39;00m:\n\u001b[0;32m    454\u001b[0m         \u001b[38;5;28;01mpass\u001b[39;00m\n\u001b[1;32m--> 456\u001b[0m \u001b[38;5;28mself\u001b[39m\u001b[38;5;241m.\u001b[39mmzgrid \u001b[38;5;241m=\u001b[39m \u001b[43mget_dataset\u001b[49m\u001b[43m(\u001b[49m\u001b[43mmsdata\u001b[49m\u001b[43m,\u001b[49m\u001b[43m \u001b[49m\u001b[38;5;124;43m\"\u001b[39;49m\u001b[38;5;124;43mmz_grid\u001b[39;49m\u001b[38;5;124;43m\"\u001b[39;49m\u001b[43m)\u001b[49m\n\u001b[0;32m    457\u001b[0m \u001b[38;5;28mself\u001b[39m\u001b[38;5;241m.\u001b[39mmassgrid \u001b[38;5;241m=\u001b[39m get_dataset(msdata, \u001b[38;5;124m\"\u001b[39m\u001b[38;5;124mmass_grid\u001b[39m\u001b[38;5;124m\"\u001b[39m)\n\u001b[0;32m    459\u001b[0m \u001b[38;5;28;01mtry\u001b[39;00m:\n",
      "File \u001b[1;32m~\\Anaconda3\\envs\\unidec3\\lib\\site-packages\\unidec\\modules\\hdf5_tools.py:28\u001b[0m, in \u001b[0;36mget_dataset\u001b[1;34m(group, name)\u001b[0m\n\u001b[0;32m     26\u001b[0m \u001b[38;5;28;01mexcept\u001b[39;00m:\n\u001b[0;32m     27\u001b[0m     data \u001b[38;5;241m=\u001b[39m np\u001b[38;5;241m.\u001b[39marray([])\n\u001b[1;32m---> 28\u001b[0m \u001b[38;5;28;01mreturn\u001b[39;00m \u001b[43mnp\u001b[49m\u001b[38;5;241;43m.\u001b[39;49m\u001b[43marray\u001b[49m\u001b[43m(\u001b[49m\u001b[43mdata\u001b[49m\u001b[43m)\u001b[49m\n",
      "\u001b[1;31mMemoryError\u001b[0m: Unable to allocate 85.2 MiB for an array with shape (22325100,) and data type float32"
     ]
    }
   ],
   "source": [
    "eng.open(hdf5_path)\n",
    "eng.process_data()\n",
    "\n",
    "eng.run_unidec()\n"
   ]
  },
  {
   "cell_type": "code",
   "execution_count": null,
   "id": "53a68c5f",
   "metadata": {
    "scrolled": true
   },
   "outputs": [],
   "source": [
    "for s in eng.data.spectra:\n",
    "    \n",
    "    plt.plot(s.massdat[:,0],s.massdat[:,1],)\n",
    "    # plt.xlim([13000, 14000])\n",
    "    plt.show()"
   ]
  },
  {
   "cell_type": "code",
   "execution_count": null,
   "id": "22830823",
   "metadata": {},
   "outputs": [],
   "source": [
    "eng.pick_peaks()"
   ]
  },
  {
   "cell_type": "code",
   "execution_count": null,
   "id": "216cc2a9",
   "metadata": {},
   "outputs": [],
   "source": [
    "# eng.config.beta"
   ]
  },
  {
   "cell_type": "code",
   "execution_count": null,
   "id": "16f08a9f",
   "metadata": {},
   "outputs": [],
   "source": [
    "# def match(pks, masslist, names, tolerance):"
   ]
  },
  {
   "cell_type": "code",
   "execution_count": null,
   "id": "3c49b2c2",
   "metadata": {
    "scrolled": false
   },
   "outputs": [],
   "source": [
    "for s in eng.data.spectra:\n",
    "    print(s.name)\n",
    "    \n",
    "    # match peaks to oligos\n",
    "    match(s.pks.peaks, masslist, names, tolerance)\n",
    "    \n",
    "    \n",
    "    \n",
    "    plt.plot(s.massdat[:,0],s.massdat[:,1],)\n",
    "    for p in s.pks.peaks:\n",
    "#         plt.scatter(p.mass, p.height)\n",
    "        if p.label != \"\":\n",
    "            plt.scatter(p.mass, p.height, color = p.color)\n",
    "    plt.show()\n",
    "    \n",
    "    "
   ]
  },
  {
   "cell_type": "code",
   "execution_count": null,
   "id": "48265920",
   "metadata": {},
   "outputs": [],
   "source": [
    "for p in s.pks.peaks:\n",
    "    if p.label !=\"\":\n",
    "        print(p.mass, p.height,p.label)"
   ]
  },
  {
   "cell_type": "code",
   "execution_count": null,
   "id": "077ae96e",
   "metadata": {},
   "outputs": [],
   "source": [
    "eng.config.datanorm"
   ]
  }
 ],
 "metadata": {
  "kernelspec": {
   "display_name": "Python 3 (ipykernel)",
   "language": "python",
   "name": "python3"
  },
  "language_info": {
   "codemirror_mode": {
    "name": "ipython",
    "version": 3
   },
   "file_extension": ".py",
   "mimetype": "text/x-python",
   "name": "python",
   "nbconvert_exporter": "python",
   "pygments_lexer": "ipython3",
   "version": "3.8.18"
  }
 },
 "nbformat": 4,
 "nbformat_minor": 5
}
