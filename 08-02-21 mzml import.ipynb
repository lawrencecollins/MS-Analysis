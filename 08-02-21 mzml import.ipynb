{
 "cells": [
  {
   "cell_type": "code",
   "execution_count": 1,
   "metadata": {},
   "outputs": [
    {
     "ename": "ImportError",
     "evalue": "cannot import name 'multiprocessing' from 'UniDec' (C:\\Users\\cm19ljc\\Documents\\GitHub\\MS-Analysis\\UniDec\\__init__.py)",
     "output_type": "error",
     "traceback": [
      "\u001b[1;31m---------------------------------------------------------------------------\u001b[0m",
      "\u001b[1;31mImportError\u001b[0m                               Traceback (most recent call last)",
      "\u001b[1;32m<ipython-input-1-750b25b16ce1>\u001b[0m in \u001b[0;36m<module>\u001b[1;34m\u001b[0m\n\u001b[0;32m      2\u001b[0m \u001b[1;32mfrom\u001b[0m \u001b[0mUniDec\u001b[0m \u001b[1;32mimport\u001b[0m \u001b[0munidec\u001b[0m\u001b[1;33m\u001b[0m\u001b[1;33m\u001b[0m\u001b[0m\n\u001b[0;32m      3\u001b[0m \u001b[1;32mfrom\u001b[0m \u001b[0mUniDec\u001b[0m\u001b[1;33m.\u001b[0m\u001b[0munidec_modules\u001b[0m \u001b[1;32mimport\u001b[0m \u001b[0mChromEng\u001b[0m \u001b[1;32mas\u001b[0m \u001b[0mchrom\u001b[0m\u001b[1;33m\u001b[0m\u001b[1;33m\u001b[0m\u001b[0m\n\u001b[1;32m----> 4\u001b[1;33m \u001b[1;32mfrom\u001b[0m \u001b[0mUniDec\u001b[0m\u001b[1;33m.\u001b[0m\u001b[0mUniChrom2\u001b[0m \u001b[1;32mimport\u001b[0m \u001b[1;33m*\u001b[0m\u001b[1;33m\u001b[0m\u001b[1;33m\u001b[0m\u001b[0m\n\u001b[0m\u001b[0;32m      5\u001b[0m \u001b[1;32mfrom\u001b[0m \u001b[0mpathlib\u001b[0m \u001b[1;32mimport\u001b[0m \u001b[0mPath\u001b[0m\u001b[1;33m\u001b[0m\u001b[1;33m\u001b[0m\u001b[0m\n\u001b[0;32m      6\u001b[0m \u001b[1;32mimport\u001b[0m \u001b[0mos\u001b[0m\u001b[1;33m\u001b[0m\u001b[1;33m\u001b[0m\u001b[0m\n",
      "\u001b[1;32m~\\Documents\\GitHub\\MS-Analysis\\UniDec\\UniChrom2.py\u001b[0m in \u001b[0;36m<module>\u001b[1;34m\u001b[0m\n\u001b[0;32m      4\u001b[0m \u001b[1;32mfrom\u001b[0m \u001b[0mpubsub\u001b[0m \u001b[1;32mimport\u001b[0m \u001b[0mpub\u001b[0m\u001b[1;33m\u001b[0m\u001b[1;33m\u001b[0m\u001b[0m\n\u001b[0;32m      5\u001b[0m \u001b[1;32mimport\u001b[0m \u001b[0mUniDec\u001b[0m\u001b[1;33m.\u001b[0m\u001b[0munidec_modules\u001b[0m\u001b[1;33m.\u001b[0m\u001b[0munidectools\u001b[0m \u001b[1;32mas\u001b[0m \u001b[0mud\u001b[0m\u001b[1;33m\u001b[0m\u001b[1;33m\u001b[0m\u001b[0m\n\u001b[1;32m----> 6\u001b[1;33m \u001b[1;32mfrom\u001b[0m \u001b[0mUniDec\u001b[0m\u001b[1;33m.\u001b[0m\u001b[0mmetaunidec\u001b[0m\u001b[1;33m.\u001b[0m\u001b[0mmudpres\u001b[0m \u001b[1;32mimport\u001b[0m \u001b[0mMetaUniDecBase\u001b[0m\u001b[1;33m\u001b[0m\u001b[1;33m\u001b[0m\u001b[0m\n\u001b[0m\u001b[0;32m      7\u001b[0m \u001b[1;32mimport\u001b[0m \u001b[0mmultiprocessing\u001b[0m\u001b[1;33m\u001b[0m\u001b[1;33m\u001b[0m\u001b[0m\n\u001b[0;32m      8\u001b[0m \u001b[1;32mfrom\u001b[0m \u001b[0mUniDec\u001b[0m\u001b[1;33m.\u001b[0m\u001b[0munidec_modules\u001b[0m\u001b[1;33m.\u001b[0m\u001b[0mgui_elements\u001b[0m\u001b[1;33m.\u001b[0m\u001b[0mChromWindow\u001b[0m \u001b[1;32mimport\u001b[0m \u001b[0mChromWindow\u001b[0m\u001b[1;33m\u001b[0m\u001b[1;33m\u001b[0m\u001b[0m\n",
      "\u001b[1;32m~\\Documents\\GitHub\\MS-Analysis\\UniDec\\metaunidec\\mudpres.py\u001b[0m in \u001b[0;36m<module>\u001b[1;34m\u001b[0m\n\u001b[0;32m     17\u001b[0m \u001b[1;32mfrom\u001b[0m \u001b[0mUniDec\u001b[0m\u001b[1;33m.\u001b[0m\u001b[0munidec_modules\u001b[0m\u001b[1;33m.\u001b[0m\u001b[0misolated_packages\u001b[0m \u001b[1;32mimport\u001b[0m \u001b[0mFileDialogs\u001b[0m\u001b[1;33m\u001b[0m\u001b[1;33m\u001b[0m\u001b[0m\n\u001b[0;32m     18\u001b[0m \u001b[1;32mfrom\u001b[0m \u001b[0mUniDec\u001b[0m \u001b[1;32mimport\u001b[0m \u001b[0mdatacollector\u001b[0m\u001b[1;33m\u001b[0m\u001b[1;33m\u001b[0m\u001b[0m\n\u001b[1;32m---> 19\u001b[1;33m \u001b[1;32mfrom\u001b[0m \u001b[0mUniDec\u001b[0m \u001b[1;32mimport\u001b[0m \u001b[0mmultiprocessing\u001b[0m\u001b[1;33m\u001b[0m\u001b[1;33m\u001b[0m\u001b[0m\n\u001b[0m\u001b[0;32m     20\u001b[0m \u001b[1;32mfrom\u001b[0m \u001b[0mUniDec\u001b[0m\u001b[1;33m.\u001b[0m\u001b[0munidec_modules\u001b[0m\u001b[1;33m.\u001b[0m\u001b[0munidec_presbase\u001b[0m \u001b[1;32mimport\u001b[0m \u001b[0mUniDecPres\u001b[0m\u001b[1;33m\u001b[0m\u001b[1;33m\u001b[0m\u001b[0m\n\u001b[0;32m     21\u001b[0m \u001b[1;32mfrom\u001b[0m \u001b[0mUniDec\u001b[0m\u001b[1;33m.\u001b[0m\u001b[0mmetaunidec\u001b[0m \u001b[1;32mimport\u001b[0m \u001b[0multrameta\u001b[0m\u001b[1;33m\u001b[0m\u001b[1;33m\u001b[0m\u001b[0m\n",
      "\u001b[1;31mImportError\u001b[0m: cannot import name 'multiprocessing' from 'UniDec' (C:\\Users\\cm19ljc\\Documents\\GitHub\\MS-Analysis\\UniDec\\__init__.py)"
     ]
    }
   ],
   "source": [
    "from UniDec.unidec_modules import mzmlparse_auto as automzml\n",
    "from UniDec import unidec\n",
    "from UniDec.unidec_modules import ChromEng as chrom\n",
    "from UniDec.UniChrom2 import *\n",
    "from pathlib import Path\n",
    "import os\n",
    "import matplotlib.pyplot as plt"
   ]
  },
  {
   "cell_type": "code",
   "execution_count": null,
   "metadata": {},
   "outputs": [],
   "source": [
    "mzml = \"mzML.mzML\"\n",
    "# folder_name = mzml[:-5] + \"_upload\"\n",
    "curr_dir =  os.getcwd()\n",
    "path = curr_dir + \"/\" + mzml[:-5] + \"/\" + mzml # (going to make a new folder containing data eventually)\n",
    "# Path(folder_name).mkdir(parents=True, exist_ok = True) # make folder to store files \n",
    "# store_dir =  os.getcwd() + \"/\" + folder_name # get location of new folder \n",
    "\n",
    "# automzml.extract(mzml, curr_dir, 1, \"txt\")"
   ]
  },
  {
   "cell_type": "code",
   "execution_count": null,
   "metadata": {},
   "outputs": [],
   "source": [
    "eng = chrom.ChromEngine()\n",
    "eng.open_chrom(path)"
   ]
  },
  {
   "cell_type": "code",
   "execution_count": null,
   "metadata": {},
   "outputs": [],
   "source": [
    "# -- Data processing \n",
    "eng.config.subtype = 2 # background subtraction - subtract curved\n",
    "eng.config.subbuff = 100 # background subtraction amount(subtract curved) 0 = 0ff, 100 = good amount when on\n",
    "eng.config.datanorm = 0 # turn off data normalisation\n",
    "\n",
    "# -- Deconvolution\n",
    "eng.config.numit = 100 # number of iterations\n",
    "\n",
    "# mass range (default = 5000.0 to 500000.0 Da)\n",
    "eng.config.massub = 15000 # upper \n",
    "eng.config.masslb = 11000 # lower\n",
    "\n",
    "eng.config.massbins = 0.1 # sample mass every 0.1 Da\n",
    "\n",
    "# FWHM \n",
    "# eng.get_auto_peak_width()\n",
    "eng.config.mzsig = 0 \n",
    "\n",
    "# charge range\n",
    "eng.config.startz = 1\n",
    "eng.config.endz = 20\n",
    "\n",
    "# smoothing \n",
    "eng.config.zzsig = 1 # charge smooth width (smooth charge state distributions)\n",
    "eng.config.psig = 1 # smooth nearby points (point smooth width, some = 1)\n",
    "eng.config.beta = 0 # suppress artifacts (beta, some = 50)\n",
    "\n",
    "eng.config.psfun = 0 # Peak shape function (gaussian, lorentzian, split G/L)\n",
    "\n",
    "# Peak Selection and plotting\n",
    "eng.config.peaknorm = 0 # Normalise peaks (0 = off)\n",
    "eng.config.peakwindow = 100 # integration window / Da\n",
    "eng.config.nativeub = 10\n",
    "eng.config.nativelb = 10\n"
   ]
  },
  {
   "cell_type": "code",
   "execution_count": null,
   "metadata": {},
   "outputs": [],
   "source": [
    "plt.plot(eng.tic[:, 0], eng.tic[:, 1])\n",
    "plt.show()"
   ]
  },
  {
   "cell_type": "code",
   "execution_count": null,
   "metadata": {},
   "outputs": [],
   "source": [
    "eng.tic[:, 0]"
   ]
  },
  {
   "cell_type": "code",
   "execution_count": null,
   "metadata": {},
   "outputs": [],
   "source": [
    "plt.plot(eng.ticdat[:, 0]*60, eng.ticdat[:, 1])\n",
    "plt.xlim(55, 70)\n",
    "plt.show()"
   ]
  },
  {
   "cell_type": "code",
   "execution_count": null,
   "metadata": {},
   "outputs": [],
   "source": [
    "# create new attributes defining location of peaks in tic\n",
    "eng.firstpeak = 62\n",
    "eng.peakspacing = 56\n",
    "eng.totalpeaks = 3\n",
    "eng.peakwindowll = 5\n",
    "eng.peakwindowul = 5"
   ]
  },
  {
   "cell_type": "code",
   "execution_count": null,
   "metadata": {},
   "outputs": [],
   "source": [
    "eng.peaktimes = [eng.firstpeak + i*eng.peakspacing for i in range(eng.totalpeaks)]\n",
    "eng.peaktimes"
   ]
  },
  {
   "cell_type": "code",
   "execution_count": null,
   "metadata": {},
   "outputs": [],
   "source": [
    "# use this attribute to update peak windows\n",
    "eng.chrompeaks_tranges = [[(i-eng.peakwindowll)/60, (i+eng.peakwindowul)/60]for i in eng.peaktimes] # get peak windows\n",
    "eng.chrompeaks_tranges"
   ]
  },
  {
   "cell_type": "code",
   "execution_count": null,
   "metadata": {},
   "outputs": [],
   "source": [
    "# add peak windows into unidec\n",
    "\n",
    "times = eng.chrompeaks_tranges\n",
    "\n",
    "for i, t in enumerate(times): # copied from add_chrom_peaks() in ChromEng.py\n",
    "    data = eng.get_data_from_times(t[0], t[1])\n",
    "    eng.data.add_data(data, name=str(t[0]), attrs=eng.attrs, export=False)"
   ]
  },
  {
   "cell_type": "code",
   "execution_count": null,
   "metadata": {},
   "outputs": [],
   "source": [
    "plt.plot(eng.mzdata[:, 0], eng.mzdata[:, 1])\n",
    "plt.show()"
   ]
  },
  {
   "cell_type": "code",
   "execution_count": null,
   "metadata": {},
   "outputs": [],
   "source": [
    "eng.data.spectra # spectra stored in mudstruct (MetaDataSet) along with rest of data"
   ]
  },
  {
   "cell_type": "code",
   "execution_count": null,
   "metadata": {},
   "outputs": [],
   "source": [
    "# taken from UniChrom2 - on_unidec_run\n",
    "\n",
    "eng."
   ]
  },
  {
   "cell_type": "markdown",
   "metadata": {},
   "source": [
    "I don't get what data it's processing - it looks like it's only processing mzdata which seems to be only one spectrum??? "
   ]
  },
  {
   "cell_type": "code",
   "execution_count": null,
   "metadata": {},
   "outputs": [],
   "source": [
    "fname = os.path.splitext(eng.filename)[0]+\"_selection.txt\"\n",
    "\n",
    "eng.unidec_eng.pass_data_in(eng.mzdata, dirname=eng.config.udir, fname=fname)\n",
    "eng.config.config_export(eng.unidec_eng.config.confname)\n",
    "eng.unidec_eng.config.config_import(eng.unidec_eng.config.confname)\n",
    "eng.unidec_eng.process_data()\n",
    "eng.unidec_eng.run_unidec(efficiency=True)"
   ]
  },
  {
   "cell_type": "code",
   "execution_count": null,
   "metadata": {},
   "outputs": [],
   "source": [
    "eng.massdat = eng.unidec_eng.data.massdat"
   ]
  },
  {
   "cell_type": "code",
   "execution_count": null,
   "metadata": {},
   "outputs": [],
   "source": [
    "# Start again using ChromApp\n",
    "app = "
   ]
  }
 ],
 "metadata": {
  "kernelspec": {
   "display_name": "Python 3",
   "language": "python",
   "name": "python3"
  },
  "language_info": {
   "codemirror_mode": {
    "name": "ipython",
    "version": 3
   },
   "file_extension": ".py",
   "mimetype": "text/x-python",
   "name": "python",
   "nbconvert_exporter": "python",
   "pygments_lexer": "ipython3",
   "version": "3.8.5"
  }
 },
 "nbformat": 4,
 "nbformat_minor": 4
}
