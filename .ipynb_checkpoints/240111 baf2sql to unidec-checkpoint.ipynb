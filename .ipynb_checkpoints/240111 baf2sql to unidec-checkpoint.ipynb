{
 "cells": [
  {
   "cell_type": "code",
   "execution_count": 1,
   "id": "fb09fa93",
   "metadata": {},
   "outputs": [],
   "source": [
    "import sqlite3\n",
    "import numpy as np\n",
    "from ctypes import *\n",
    "import sys\n",
    "import os\n",
    "import baf2sql\n",
    "import matplotlib.pyplot as plt\n",
    "\n",
    "path = \"D:\\\\WORK\\\\20230710 DOE_CTB H6_5M_DAmp\\\\testing\\\\20230710 4C_24h_1.d\"\n",
    "\n",
    "\n"
   ]
  },
  {
   "cell_type": "code",
   "execution_count": 2,
   "id": "d3fd779b",
   "metadata": {},
   "outputs": [],
   "source": [
    "def run_baf2sql(path, scanstart=None, scanend=None,time=None):\n",
    "    \n",
    "    if sys.version_info.major == 2:\n",
    "        # note: assuming a european Windows here...\n",
    "        path = unicode(path, 'cp1252')\n",
    "\n",
    "    baf_fn = os.path.join(path, \"analysis.baf\")\n",
    "    sqlite_fn = baf2sql.getSQLiteCacheFilename(baf_fn)\n",
    "    conn = sqlite3.connect(sqlite_fn)\n",
    "\n",
    "    # --- Count spectra\n",
    "    q = conn.execute(\"SELECT COUNT(*) FROM Spectra \"\n",
    "                     \"WHERE LineMzId NOT NULL AND ProfileMzId NOT NULL\")\n",
    "    row = q.fetchone()\n",
    "    N = row[0]\n",
    "    print(\"Specified BAF has {} spectra with line and profile data.\".format(N))\n",
    "\n",
    "    # --- Plot TIC and BPC over MS^1 spectra\n",
    "    q = conn.execute(\"SELECT Rt, SumIntensity, MaxIntensity FROM Spectra s \"\n",
    "                     \"JOIN AcquisitionKeys ak ON s.AcquisitionKey = ak.Id \"\n",
    "                     \"WHERE ak.MsLevel = 0 \"\n",
    "                     \"ORDER BY s.ROWID\")\n",
    "    data = [ row for row in q ]\n",
    "    rt = [ row[0] for row in data ]\n",
    "    tic = [ row[1] for row in data ]\n",
    "    bpc = [ row[2] for row in data ]\n",
    "\n",
    "    # --- Plot mean spectrum within time window\n",
    "\n",
    "    np_bpc = np.array(bpc, dtype = 'float')\n",
    "\n",
    "    # # get time window around base-peak intensity \n",
    "    # rt_range = rt[np.nanargmax(np_bpc) - 5: np.nanargmax(np_bpc) + 6]\n",
    "\n",
    "    spec_vals = {'profile_mz':[], 'profile_int':[], 'line_mz':[], 'line_int':[]}\n",
    "    if scanstart is not None:\n",
    "        rt = rt[scanstart:scanend]\n",
    "    # add elif for time points \n",
    "    \n",
    "    \n",
    "    for i in rt: \n",
    "\n",
    "        q = conn.execute(\"SELECT LineMzId, LineIntensityId, ProfileMzId, ProfileIntensityId FROM Spectra \"\n",
    "                        \"WHERE ABS(Rt - {}) < 1e-8\".format(i))\n",
    "\n",
    "        row = q.fetchone()\n",
    "\n",
    "        bs = baf2sql.BinaryStorage(baf_fn)\n",
    "\n",
    "        if not all(row) == False: # check for None values\n",
    "\n",
    "            bs = baf2sql.BinaryStorage(baf_fn)\n",
    "\n",
    "            profile_mz = bs.readArrayDouble(row[2])\n",
    "            profile_int = bs.readArrayDouble(row[3])\n",
    "\n",
    "            spec_vals['profile_mz'].append(profile_mz)\n",
    "            spec_vals['profile_int'].append(profile_int)\n",
    "\n",
    "\n",
    "            line_mz = bs.readArrayDouble(row[0])\n",
    "            line_int = bs.readArrayDouble(row[1])\n",
    "\n",
    "            # stem() can take quite some time, so we reduce data for this example:\n",
    "\n",
    "            max_points = 100;\n",
    "\n",
    "            if len(line_mz) > max_points:\n",
    "                line_mz = line_mz[0:max_points]\n",
    "                line_int = line_int[0:max_points]\n",
    "\n",
    "            spec_vals['line_mz'].append(line_mz)\n",
    "            spec_vals['line_int'].append(line_int)\n",
    "\n",
    "\n",
    "    # convert resulting spectra values into arrays\n",
    "    np_profile_mz = np.array(spec_vals['profile_mz'])\n",
    "    np_profile_int = np.array(spec_vals['profile_int'])\n",
    "    \n",
    "    # mean arrays and transpose\n",
    "    mz_mean = np_profile_mz.mean(axis=0)\n",
    "    int_mean = np_profile_int.mean(axis=0)\n",
    "    \n",
    "    # make this self.data?\n",
    "    data = np.transpose([mz_mean, int_mean])\n",
    "    \n",
    "    return data\n",
    "    "
   ]
  },
  {
   "cell_type": "code",
   "execution_count": 3,
   "id": "1de37fb5",
   "metadata": {},
   "outputs": [
    {
     "name": "stdout",
     "output_type": "stream",
     "text": [
      "Specified BAF has 738 spectra with line and profile data.\n"
     ]
    }
   ],
   "source": [
    "scans = [434, 481]\n",
    "\n",
    "data=run_baf2sql(path, scanstart=scans[0], scanend=scans[1])"
   ]
  },
  {
   "cell_type": "code",
   "execution_count": 4,
   "id": "fd9d2865",
   "metadata": {},
   "outputs": [
    {
     "data": {
      "image/png": "[encoded data removed]",
      "text/plain": [
       "<Figure size 640x480 with 1 Axes>"
      ]
     },
     "metadata": {},
     "output_type": "display_data"
    }
   ],
   "source": [
    "plt.plot(data[:,0], data[:,1])\n",
    "plt.show()"
   ]
  },
  {
   "cell_type": "code",
   "execution_count": 5,
   "id": "86de9c7f",
   "metadata": {},
   "outputs": [],
   "source": [
    "import unidec\n",
    "# from unidec import ChromEngine\n",
    "from unidec.metaunidec.mudeng import MetaUniDec\n",
    "from unidec.modules.ChromEng import ChromEngine\n",
    "import matplotlib.pyplot as plt\n",
    "import numpy as np"
   ]
  },
  {
   "cell_type": "code",
   "execution_count": 6,
   "id": "72ba741b",
   "metadata": {},
   "outputs": [
    {
     "name": "stdout",
     "output_type": "stream",
     "text": [
      "\n",
      "UniDec Engine v.6.0.4\n",
      "\n",
      "UniDec Path: C:\\Users\\cm19ljc\\Anaconda3\\envs\\unidec3\\lib\\site-packages\\unidec\\bin\\unidec.exe\n"
     ]
    }
   ],
   "source": [
    "directory = os.path.split(path)[0]\n",
    "hdf5_name = \"test.hdf5\"\n",
    "hdf5_path = os.path.join(directory, hdf5_name)\n",
    "eng= MetaUniDec()\n",
    "eng.data.new_file(hdf5_path)"
   ]
  },
  {
   "cell_type": "code",
   "execution_count": 7,
   "id": "be307253",
   "metadata": {},
   "outputs": [
    {
     "name": "stdout",
     "output_type": "stream",
     "text": [
      "Adding: D:\\WORK\\20230710 DOE_CTB H6_5M_DAmp\\testing\\20230710 4C_24h_1.d to ms_dataset\n"
     ]
    }
   ],
   "source": [
    "eng.data.add_data(data, name=path, export=False)\n",
    "eng.data.export_hdf5()"
   ]
  },
  {
   "cell_type": "code",
   "execution_count": 16,
   "id": "6990cbdc",
   "metadata": {},
   "outputs": [
    {
     "data": {
      "text/plain": [
       "{'names': [],\n",
       " 'indexes': [0],\n",
       " 'spectra': [<unidec.metaunidec.mudstruct.Spectrum at 0x24bbe64c280>],\n",
       " 'topname': 'ms_dataset',\n",
       " 'filename': 'D:\\\\WORK\\\\20230710 DOE_CTB H6_5M_DAmp\\\\testing\\\\test.hdf5',\n",
       " 'massdat': array([], shape=(0, 2), dtype=float64),\n",
       " 'data2': array([[ 800.0008   ,   49.531914 ],\n",
       "        [ 800.00525  ,   50.02128  ],\n",
       "        [ 800.00964  ,   55.468086 ],\n",
       "        ...,\n",
       "        [2005.0273   ,    4.4680853],\n",
       "        [2005.0343   ,    5.       ],\n",
       "        [2005.0413   ,    5.8297873]], dtype=float32),\n",
       " 'massgrid': [],\n",
       " 'mzgrid': [],\n",
       " 'mzdat': array([], shape=(0, 2), dtype=float64),\n",
       " 'exgrid': [],\n",
       " 'exvals': [],\n",
       " 'peaks': [],\n",
       " 'var1': array([0.]),\n",
       " 'var2': array([0.]),\n",
       " 'v1name': 'Variable 1',\n",
       " 'v2name': 'Variable 2',\n",
       " 'len': 1,\n",
       " 'eng': <unidec.metaunidec.mudeng.MetaUniDec at 0x24bb57beb20>,\n",
       " 'fitgrid': [],\n",
       " 'fits': []}"
      ]
     },
     "execution_count": 16,
     "metadata": {},
     "output_type": "execute_result"
    }
   ],
   "source": [
    "eng.data.__dict__"
   ]
  },
  {
   "cell_type": "code",
   "execution_count": 30,
   "id": "bb8a03a1",
   "metadata": {},
   "outputs": [],
   "source": [
    "# Parameters\n",
    "# UniDec\n",
    "eng.config.minmz=750\n",
    "eng.config.numit = 100\n",
    "eng.config.zzsig = 1\n",
    "eng.config.psig = 1\n",
    "eng.config.beta = 1\n",
    "eng.config.startz = 1\n",
    "eng.config.endz = 100\n",
    "eng.config.numz = 100\n",
    "eng.config.mzsig = 0.85\n",
    "eng.config.automzsig = 0\n",
    "eng.config.psfun = 0\n",
    "eng.config.psfunz = 0\n",
    "eng.config.autopsfun = 0\n",
    "eng.config.massub = 17000\n",
    "eng.config.masslb = 12000\n",
    "eng.config.msig = 0\n",
    "eng.config.molig = 0\n",
    "eng.config.massbins = 1\n",
    "eng.config.adductmass = 1.007276467\n",
    "eng.config.baselineflag = 1\n",
    "eng.config.aggressiveflag = 0\n",
    "eng.config.noiseflag = 0\n",
    "eng.config.isotopemode = 0\n",
    "eng.config.orbimode = 0\n",
    "\n",
    "# Other\n",
    "eng.config.mtabsig = 0\n",
    "eng.config.poolflag = 2\n",
    "eng.config.nativezub = 1000\n",
    "eng.config.nativezlb = -1000\n",
    "eng.config.inflate = 1\n",
    "eng.config.linflag = 2\n",
    "eng.config.integratelb = \"\"\n",
    "eng.config.integrateub = \"\"\n",
    "eng.config.filterwidth = 20\n",
    "eng.config.zerolog = -12\n",
    "\n",
    "eng.config.datanorm = 1\n",
    "eng.config.subuff=0\n",
    "eng.config.subtype=2\n",
    "eng.config.write_hdf5()"
   ]
  },
  {
   "cell_type": "code",
   "execution_count": 33,
   "id": "66a76d13",
   "metadata": {},
   "outputs": [
    {
     "name": "stdout",
     "output_type": "stream",
     "text": [
      "Mass Grid Warning: (0,) (0,)\n",
      "mz grid Warning: (0,) (0,)\n",
      "Opening Time: 0.48502289999987624\n",
      "Execution Time: 0.11298790000000736\n",
      "Mass Grid Warning: (0,) (0,)\n",
      "mz grid Warning: (0,) (0,)\n",
      "Execution Time: 13.241181200000028\n",
      "Mass Grid Warning: (0,) (0,)\n",
      "mz grid Warning: (0,) (0,)\n"
     ]
    },
    {
     "data": {
      "image/png": "[encoded data removed]",
      "text/plain": [
       "<Figure size 640x480 with 1 Axes>"
      ]
     },
     "metadata": {},
     "output_type": "display_data"
    }
   ],
   "source": [
    "eng.open(hdf5_path)\n",
    "eng.process_data()\n",
    "\n",
    "eng.run_unidec()\n",
    "plt.plot(eng.data.spectra[0].massdat[:,0],eng.data.spectra[0].massdat[:,1],)\n",
    "plt.xlim([13000, 14000])\n",
    "plt.show()"
   ]
  },
  {
   "cell_type": "code",
   "execution_count": 44,
   "id": "13b26aa2",
   "metadata": {},
   "outputs": [
    {
     "data": {
      "image/png": "[encoded data removed]",
      "text/plain": [
       "<Figure size 720x360 with 1 Axes>"
      ]
     },
     "metadata": {},
     "output_type": "display_data"
    }
   ],
   "source": [
    "fig, axs = plt.subplots(1, 1, sharex = True, dpi = 120, sharey=False, facecolor = 'white',  \n",
    "                       constrained_layout=True,\n",
    "                       figsize=(6,3)) \n",
    "axs.plot(eng.data.spectra[0].massdat[:,0],eng.data.spectra[0].massdat[:,1],c='black')\n",
    "axs.set_xlim([13000, 14000])\n",
    "\n",
    "axs.spines['right'].set_visible(False)\n",
    "axs.spines['top'].set_visible(False)\n",
    "axs.spines['left'].set_visible(False)\n",
    "axs.yaxis.set_tick_params(labelleft=False)\n",
    "axs.set_yticks([])\n",
    "\n",
    "\n",
    "fig.supxlabel(\"Mass [Da]\", weight = 'bold')\n",
    "plt.show()"
   ]
  },
  {
   "cell_type": "code",
   "execution_count": 37,
   "id": "d7990a3a",
   "metadata": {},
   "outputs": [
    {
     "ename": "AttributeError",
     "evalue": "'Figure' object has no attribute 'plot'",
     "output_type": "error",
     "traceback": [
      "\u001b[1;31m---------------------------------------------------------------------------\u001b[0m",
      "\u001b[1;31mAttributeError\u001b[0m                            Traceback (most recent call last)",
      "Cell \u001b[1;32mIn[37], line 2\u001b[0m\n\u001b[0;32m      1\u001b[0m ax \u001b[38;5;241m=\u001b[39m plt\u001b[38;5;241m.\u001b[39mfigure(figsize\u001b[38;5;241m=\u001b[39m(\u001b[38;5;241m6\u001b[39m,\u001b[38;5;241m3\u001b[39m))\n\u001b[1;32m----> 2\u001b[0m \u001b[43max\u001b[49m\u001b[38;5;241;43m.\u001b[39;49m\u001b[43mplot\u001b[49m(eng\u001b[38;5;241m.\u001b[39mdata\u001b[38;5;241m.\u001b[39mspectra[\u001b[38;5;241m0\u001b[39m]\u001b[38;5;241m.\u001b[39mmassdat[:,\u001b[38;5;241m0\u001b[39m],eng\u001b[38;5;241m.\u001b[39mdata\u001b[38;5;241m.\u001b[39mspectra[\u001b[38;5;241m0\u001b[39m]\u001b[38;5;241m.\u001b[39mmassdat[:,\u001b[38;5;241m1\u001b[39m],)\n\u001b[0;32m      3\u001b[0m ax\u001b[38;5;241m.\u001b[39mset_xlim([\u001b[38;5;241m13000\u001b[39m, \u001b[38;5;241m14000\u001b[39m])\n\u001b[0;32m      4\u001b[0m plt\u001b[38;5;241m.\u001b[39mshow()\n",
      "\u001b[1;31mAttributeError\u001b[0m: 'Figure' object has no attribute 'plot'"
     ]
    },
    {
     "data": {
      "text/plain": [
       "<Figure size 600x300 with 0 Axes>"
      ]
     },
     "metadata": {},
     "output_type": "display_data"
    }
   ],
   "source": [
    " ax = plt.figure(figsize=(6,3))\n",
    "ax.plot(eng.data.spectra[0].massdat[:,0],eng.data.spectra[0].massdat[:,1],)\n",
    "ax.set_xlim([13000, 14000])\n",
    "plt.show()"
   ]
  },
  {
   "cell_type": "code",
   "execution_count": 11,
   "id": "f4a84340",
   "metadata": {},
   "outputs": [
    {
     "ename": "AttributeError",
     "evalue": "'MetaUniDec' object has no attribute 'outpath'",
     "output_type": "error",
     "traceback": [
      "\u001b[1;31m---------------------------------------------------------------------------\u001b[0m",
      "\u001b[1;31mAttributeError\u001b[0m                            Traceback (most recent call last)",
      "Cell \u001b[1;32mIn[11], line 1\u001b[0m\n\u001b[1;32m----> 1\u001b[0m \u001b[43meng\u001b[49m\u001b[38;5;241;43m.\u001b[39;49m\u001b[43moutpath\u001b[49m\n",
      "\u001b[1;31mAttributeError\u001b[0m: 'MetaUniDec' object has no attribute 'outpath'"
     ]
    }
   ],
   "source": [
    "eng.outpath"
   ]
  }
 ],
 "metadata": {
  "kernelspec": {
   "display_name": "Python 3 (ipykernel)",
   "language": "python",
   "name": "python3"
  },
  "language_info": {
   "codemirror_mode": {
    "name": "ipython",
    "version": 3
   },
   "file_extension": ".py",
   "mimetype": "text/x-python",
   "name": "python",
   "nbconvert_exporter": "python",
   "pygments_lexer": "ipython3",
   "version": "3.8.18"
  }
 },
 "nbformat": 4,
 "nbformat_minor": 5
}
