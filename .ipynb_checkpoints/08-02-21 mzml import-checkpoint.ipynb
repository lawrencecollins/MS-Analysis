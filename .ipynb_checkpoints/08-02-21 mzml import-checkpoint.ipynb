{
 "cells": [
  {
   "cell_type": "code",
   "execution_count": 40,
   "metadata": {},
   "outputs": [],
   "source": [
    "from UniDec.unidec_modules import mzmlparse_auto as automzml\n",
    "from UniDec import unidec\n",
    "from UniDec.unidec_modules import ChromEng as chrom\n",
    "\n",
    "from pathlib import Path\n",
    "import os\n",
    "import matplotlib.pyplot as plt"
   ]
  },
  {
   "cell_type": "code",
   "execution_count": 33,
   "metadata": {},
   "outputs": [],
   "source": [
    "mzml = \"mzML.mzML\"\n",
    "# folder_name = mzml[:-5] + \"_upload\"\n",
    "curr_dir =  os.getcwd()\n",
    "path = curr_dir + \"/\" + mzml[:-5] + \"/\" + mzml # (going to make a new folder containing data eventually)\n",
    "# Path(folder_name).mkdir(parents=True, exist_ok = True) # make folder to store files \n",
    "# store_dir =  os.getcwd() + \"/\" + folder_name # get location of new folder \n",
    "\n",
    "# automzml.extract(mzml, curr_dir, 1, \"txt\")"
   ]
  },
  {
   "cell_type": "code",
   "execution_count": 35,
   "metadata": {},
   "outputs": [
    {
     "name": "stdout",
     "output_type": "stream",
     "text": [
      "\n",
      "UniDec Engine v.4.4.0\n",
      "\n",
      "UniDec Path: C:\\Users\\cm19ljc\\Documents\\GitHub\\MS-Analysis\\UniDec\\unidec_bin\\UniDec.exe\n",
      "\n",
      "UniDec Engine v.4.4.0\n",
      "\n",
      "UniDec Path: C:\\Users\\cm19ljc\\Documents\\GitHub\\MS-Analysis\\UniDec\\unidec_bin\\UniDec.exe\n",
      "Opening:  mzML.mzML\n",
      "Reading mzML: C:\\Users\\cm19ljc\\Documents\\GitHub\\MS-Analysis/mzML/mzML.mzML\n",
      "[Warning] Not index found and build_index_from_scratch is False\n",
      "Converted to gzip file to improve speed: C:\\Users\\cm19ljc\\Documents\\GitHub\\MS-Analysis/mzML/mzML.mzML.gz\n",
      "Error getting TIC in mzML; trying to make it...\n",
      "Imported Data. Constructing TIC\n",
      "Done\n"
     ]
    },
    {
     "data": {
      "text/plain": [
       "False"
      ]
     },
     "execution_count": 35,
     "metadata": {},
     "output_type": "execute_result"
    }
   ],
   "source": [
    "eng = chrom.ChromEngine()\n",
    "eng.open_chrom(path)"
   ]
  },
  {
   "cell_type": "code",
   "execution_count": 46,
   "metadata": {},
   "outputs": [],
   "source": [
    "# -- Data processing \n",
    "eng.config.subtype = 2 # background subtraction - subtract curved\n",
    "eng.config.subbuff = 100 # background subtraction amount(subtract curved) 0 = 0ff, 100 = good amount when on\n",
    "eng.config.datanorm = 0 # turn off data normalisation\n",
    "\n",
    "# -- Deconvolution\n",
    "eng.config.numit = 100 # number of iterations\n",
    "\n",
    "# mass range (default = 5000.0 to 500000.0 Da)\n",
    "eng.config.massub = 15000 # upper \n",
    "eng.config.masslb = 11000 # lower\n",
    "\n",
    "eng.config.massbins = 0.1 # sample mass every 0.1 Da\n",
    "\n",
    "# FWHM \n",
    "# eng.get_auto_peak_width()\n",
    "eng.config.mzsig = 0 \n",
    "\n",
    "# charge range\n",
    "eng.config.startz = 1\n",
    "eng.config.endz = 20\n",
    "\n",
    "# smoothing \n",
    "eng.config.zzsig = 1 # charge smooth width (smooth charge state distributions)\n",
    "eng.config.psig = 1 # smooth nearby points (point smooth width, some = 1)\n",
    "eng.config.beta = 0 # suppress artifacts (beta, some = 50)\n",
    "\n",
    "eng.config.psfun = 0 # Peak shape function (gaussian, lorentzian, split G/L)\n",
    "\n",
    "# Peak Selection and plotting\n",
    "eng.config.peaknorm = 0 # Normalise peaks (0 = off)\n",
    "eng.config.peakwindow = 100 # integration window / Da\n",
    "eng.config.nativeub = 10\n",
    "eng.config.nativelb = 10\n"
   ]
  },
  {
   "cell_type": "code",
   "execution_count": 41,
   "metadata": {},
   "outputs": [
    {
     "data": {
      "image/png": "[encoded data removed]",
      "text/plain": [
       "<Figure size 432x288 with 1 Axes>"
      ]
     },
     "metadata": {
      "needs_background": "light"
     },
     "output_type": "display_data"
    }
   ],
   "source": [
    "plt.plot(eng.tic[:, 0], eng.tic[:, 1])\n",
    "plt.show()"
   ]
  },
  {
   "cell_type": "code",
   "execution_count": 54,
   "metadata": {},
   "outputs": [
    {
     "data": {
      "text/plain": [
       "array([0.419567, 0.436217, 0.452867, ..., 5.02893 , 5.0331  , 5.03725 ])"
      ]
     },
     "execution_count": 54,
     "metadata": {},
     "output_type": "execute_result"
    }
   ],
   "source": [
    "eng.tic[:, 0]"
   ]
  },
  {
   "cell_type": "code",
   "execution_count": 64,
   "metadata": {},
   "outputs": [
    {
     "data": {
      "image/png": "[encoded data removed]",
      "text/plain": [
       "<Figure size 432x288 with 1 Axes>"
      ]
     },
     "metadata": {
      "needs_background": "light"
     },
     "output_type": "display_data"
    }
   ],
   "source": [
    "plt.plot(eng.ticdat[:, 0]*60, eng.ticdat[:, 1])\n",
    "plt.xlim(55, 70)\n",
    "plt.show()"
   ]
  },
  {
   "cell_type": "code",
   "execution_count": 73,
   "metadata": {},
   "outputs": [],
   "source": [
    "# create new attributes defining location of peaks in tic\n",
    "eng.firstpeak = 62\n",
    "eng.peakspacing = 56\n",
    "eng.totalpeaks = 3\n",
    "eng.peakwindowll = 5\n",
    "eng.peakwindowul = 5"
   ]
  },
  {
   "cell_type": "code",
   "execution_count": 67,
   "metadata": {},
   "outputs": [
    {
     "data": {
      "text/plain": [
       "[62, 118, 174]"
      ]
     },
     "execution_count": 67,
     "metadata": {},
     "output_type": "execute_result"
    }
   ],
   "source": [
    "eng.peaktimes = [eng.firstpeak + i*eng.peakspacing for i in range(eng.totalpeaks)]\n",
    "eng.peaktimes"
   ]
  },
  {
   "cell_type": "code",
   "execution_count": 87,
   "metadata": {},
   "outputs": [
    {
     "data": {
      "text/plain": [
       "[[0.95, 1.1166666666666667],\n",
       " [1.8833333333333333, 2.05],\n",
       " [2.816666666666667, 2.9833333333333334]]"
      ]
     },
     "execution_count": 87,
     "metadata": {},
     "output_type": "execute_result"
    }
   ],
   "source": [
    "# use this attribute to update peak windows\n",
    "eng.chrompeaks_tranges = [[(i-eng.peakwindowll)/60, (i+eng.peakwindowul)/60]for i in eng.peaktimes] # get peak windows\n",
    "eng.chrompeaks_tranges"
   ]
  },
  {
   "cell_type": "code",
   "execution_count": 88,
   "metadata": {},
   "outputs": [
    {
     "name": "stdout",
     "output_type": "stream",
     "text": [
      "Getting scans: [86, 125]\n",
      "Length merge axis: 28915\n",
      "Getting scans: [311, 350]\n",
      "Length merge axis: 30293\n",
      "Getting scans: [535, 574]\n",
      "Length merge axis: 31342\n"
     ]
    }
   ],
   "source": [
    "# add peak windows into unidec\n",
    "\n",
    "times = eng.chrompeaks_tranges\n",
    "\n",
    "for i, t in enumerate(times): # copied from add_chrom_peaks() in ChromEng.py\n",
    "    data = eng.get_data_from_times(t[0], t[1])\n",
    "    eng.data.add_data(data, name=str(t[0]), attrs=eng.attrs, export=False)"
   ]
  },
  {
   "cell_type": "code",
   "execution_count": 93,
   "metadata": {},
   "outputs": [
    {
     "data": {
      "image/png": "[encoded data removed]",
      "text/plain": [
       "<Figure size 432x288 with 1 Axes>"
      ]
     },
     "metadata": {
      "needs_background": "light"
     },
     "output_type": "display_data"
    }
   ],
   "source": [
    "plt.plot(eng.mzdata[:, 0], eng.mzdata[:, 1])\n",
    "plt.show()"
   ]
  },
  {
   "cell_type": "code",
   "execution_count": 102,
   "metadata": {},
   "outputs": [
    {
     "data": {
      "text/plain": [
       "[<UniDec.metaunidec.mudstruct.Spectrum at 0x17df6da6910>,\n",
       " <UniDec.metaunidec.mudstruct.Spectrum at 0x17df6da8280>,\n",
       " <UniDec.metaunidec.mudstruct.Spectrum at 0x17df3efb520>,\n",
       " <UniDec.metaunidec.mudstruct.Spectrum at 0x17dfd4ed1c0>,\n",
       " <UniDec.metaunidec.mudstruct.Spectrum at 0x17dfbd8edf0>]"
      ]
     },
     "execution_count": 102,
     "metadata": {},
     "output_type": "execute_result"
    }
   ],
   "source": [
    "eng.data.spectra # spectra stored in mudstruct (MetaDataSet) along with rest of data"
   ]
  },
  {
   "cell_type": "code",
   "execution_count": null,
   "metadata": {},
   "outputs": [],
   "source": [
    "# taken from UniChrom2 - on_unidec_run\n",
    "\n",
    "eng."
   ]
  },
  {
   "cell_type": "markdown",
   "metadata": {},
   "source": [
    "I don't get what data it's processing - it looks like it's only processing mzdata which seems to be only one spectrum??? "
   ]
  },
  {
   "cell_type": "code",
   "execution_count": 108,
   "metadata": {},
   "outputs": [
    {
     "name": "stdout",
     "output_type": "stream",
     "text": [
      "Creating file: C:\\Users\\cm19ljc\\Documents\\GitHub\\MS-Analysis/mzML\\UniDec_Figures_and_Files\\mzML_selection.txt\n",
      "Opening File:  C:\\Users\\cm19ljc\\Documents\\GitHub\\MS-Analysis/mzML\\UniDec_Figures_and_Files\\mzML_selection.txt\n",
      "Loading Time: 0.25s\n",
      "Linear False\n",
      "Data Prep Time: 0.26s\n",
      "UniDec run 0.71s\n",
      "File Name:  C:\\Users\\cm19ljc\\Documents\\GitHub\\MS-Analysis/mzML\\UniDec_Figures_and_Files\\mzML_selection.txt R Squared:  0.973585821683986\n"
     ]
    },
    {
     "data": {
      "text/plain": [
       "0"
      ]
     },
     "execution_count": 108,
     "metadata": {},
     "output_type": "execute_result"
    }
   ],
   "source": [
    "fname = os.path.splitext(eng.filename)[0]+\"_selection.txt\"\n",
    "\n",
    "eng.unidec_eng.pass_data_in(eng.mzdata, dirname=eng.config.udir, fname=fname)\n",
    "eng.config.config_export(eng.unidec_eng.config.confname)\n",
    "eng.unidec_eng.config.config_import(eng.unidec_eng.config.confname)\n",
    "eng.unidec_eng.process_data()\n",
    "eng.unidec_eng.run_unidec(efficiency=True)"
   ]
  }
 ],
 "metadata": {
  "kernelspec": {
   "display_name": "Python 3",
   "language": "python",
   "name": "python3"
  },
  "language_info": {
   "codemirror_mode": {
    "name": "ipython",
    "version": 3
   },
   "file_extension": ".py",
   "mimetype": "text/x-python",
   "name": "python",
   "nbconvert_exporter": "python",
   "pygments_lexer": "ipython3",
   "version": "3.8.5"
  }
 },
 "nbformat": 4,
 "nbformat_minor": 4
}
