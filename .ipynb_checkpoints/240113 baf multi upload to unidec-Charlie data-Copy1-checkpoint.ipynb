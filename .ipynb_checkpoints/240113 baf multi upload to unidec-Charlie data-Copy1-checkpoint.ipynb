{
 "cells": [
  {
   "cell_type": "code",
   "execution_count": 1,
   "id": "07ff9cba",
   "metadata": {},
   "outputs": [],
   "source": [
    "from baf2sql2unidec import *\n",
    "import matplotlib.pyplot as plt\n",
    "import os\n",
    "import unidec\n",
    "from unidec.metaunidec.mudeng import MetaUniDec\n",
    "from unidec import tools as ud\n",
    "import pandas as pd"
   ]
  },
  {
   "cell_type": "code",
   "execution_count": 2,
   "id": "80539b61",
   "metadata": {},
   "outputs": [],
   "source": [
    "def match(pks, masslist, names, tolerance):\n",
    "    matches = []\n",
    "    errors = []\n",
    "    peaks = []\n",
    "    nameslist = []\n",
    "\n",
    "    for p in pks:\n",
    "\n",
    "        target = p.mass\n",
    "    #     print(target)\n",
    "        nearpt = ud.nearestunsorted(masslist, target)\n",
    "\n",
    "        match = masslist[nearpt]\n",
    "        error = target-match\n",
    "        if np.abs(error) < tolerance: \n",
    "            name = names[nearpt]\n",
    "            p.error = error\n",
    "        else:\n",
    "            name = \"\"\n",
    "        p.label = name\n",
    "        p.match = match\n",
    "        p.matcherror = error\n",
    "\n",
    "        matches.append(match)\n",
    "        errors.append(error)\n",
    "        peaks.append(target)\n",
    "        nameslist.append(name)\n",
    "        \n",
    "    matchlist = [peaks, matches, errors, nameslist]\n",
    "    return matchlist "
   ]
  },
  {
   "cell_type": "markdown",
   "id": "c6aee96c",
   "metadata": {},
   "source": [
    "### Updates:\n",
    "- Now runs through pip installed unidec \n",
    "- Improved matching algorithm\n",
    "- Added upload from .d files using baf2sql (much faster than mzML)\n"
   ]
  },
  {
   "cell_type": "code",
   "execution_count": 3,
   "id": "f6f16bc6",
   "metadata": {},
   "outputs": [],
   "source": [
    "# path = \"D:\\\\WORK\\\\20230710 DOE_CTB H6_5M_DAmp\\\\testing\\\\20230710 4C_24h_1.d\"\n",
    "# directory = \"D:\\\\WORK\\\\20230710 DOE_CTB H6_5M_DAmp\\\\24h\"\n",
    "directory = \"D:\\\\WORK\\\\20230710 DOE_CTB H6_5M_DAmp\\\\testing\"\n",
    "directory = \"E:\\\\charlie HRMS data\\\\PDRA Ocr23-Jan24 data\\\\20240116 AY PfAPP studies\\\\25 dC\"\n",
    "scans = [434, 481]\n",
    "# scans = [444, 500]\n",
    "scans = [434, 500]\n",
    "\n",
    "masslist = [11814, 12488 ]\n",
    "names = [\"GGG-CTB\", \"AYLPETGGG-CTB\"]\n",
    "tolerance = 10"
   ]
  },
  {
   "cell_type": "code",
   "execution_count": 4,
   "id": "8b20f9bb",
   "metadata": {},
   "outputs": [],
   "source": [
    "# spectrum = BafSpectrum()\n",
    "# name, data = spectrum.export_scans_from_file(path, scanstart = scans[0], scanend = scans[1])\n",
    "# plt.plot(data[:, 0], data[:, 1])\n",
    "# plt.plot(spectrum.rt, spectrum.tic)\n",
    "# plt.axvspan(spectrum.rt[scans[0]], spectrum.rt[scans[1]])"
   ]
  },
  {
   "cell_type": "code",
   "execution_count": 5,
   "id": "61fb2e81",
   "metadata": {
    "scrolled": true
   },
   "outputs": [
    {
     "name": "stdout",
     "output_type": "stream",
     "text": [
      "Specified BAF has 738 spectra with line and profile data.\n"
     ]
    },
    {
     "ename": "RuntimeError",
     "evalue": "b'Error reading BAF files.'",
     "output_type": "error",
     "traceback": [
      "\u001b[1;31m---------------------------------------------------------------------------\u001b[0m",
      "\u001b[1;31mRuntimeError\u001b[0m                              Traceback (most recent call last)",
      "Cell \u001b[1;32mIn[5], line 7\u001b[0m\n\u001b[0;32m      5\u001b[0m path \u001b[38;5;241m=\u001b[39m os\u001b[38;5;241m.\u001b[39mpath\u001b[38;5;241m.\u001b[39mjoin(directory, s)\n\u001b[0;32m      6\u001b[0m spectrum \u001b[38;5;241m=\u001b[39m BafSpectrum()\n\u001b[1;32m----> 7\u001b[0m \u001b[43mspectrum\u001b[49m\u001b[38;5;241;43m.\u001b[39;49m\u001b[43mexport_scans_from_file\u001b[49m\u001b[43m(\u001b[49m\u001b[43mpath\u001b[49m\u001b[43m,\u001b[49m\u001b[43m \u001b[49m\u001b[43mscanstart\u001b[49m\u001b[43m \u001b[49m\u001b[38;5;241;43m=\u001b[39;49m\u001b[43m \u001b[49m\u001b[43mscans\u001b[49m\u001b[43m[\u001b[49m\u001b[38;5;241;43m0\u001b[39;49m\u001b[43m]\u001b[49m\u001b[43m,\u001b[49m\u001b[43m \u001b[49m\u001b[43mscanend\u001b[49m\u001b[43m \u001b[49m\u001b[38;5;241;43m=\u001b[39;49m\u001b[43m \u001b[49m\u001b[43mscans\u001b[49m\u001b[43m[\u001b[49m\u001b[38;5;241;43m1\u001b[39;49m\u001b[43m]\u001b[49m\u001b[43m)\u001b[49m\n\u001b[0;32m      8\u001b[0m spectrum\u001b[38;5;241m.\u001b[39mplot_tic(show_scans\u001b[38;5;241m=\u001b[39m\u001b[38;5;28;01mTrue\u001b[39;00m)\n\u001b[0;32m      9\u001b[0m spectra\u001b[38;5;241m.\u001b[39mappend(spectrum)\n",
      "File \u001b[1;32m~\\Documents\\GitHub\\MS-Analysis\\baf2sql2unidec.py:107\u001b[0m, in \u001b[0;36mBafSpectrum.export_scans_from_file\u001b[1;34m(self, path, scanstart, scanend, name)\u001b[0m\n\u001b[0;32m    104\u001b[0m \u001b[38;5;28mself\u001b[39m\u001b[38;5;241m.\u001b[39mname \u001b[38;5;241m=\u001b[39m name\n\u001b[0;32m    106\u001b[0m \u001b[38;5;28mself\u001b[39m\u001b[38;5;241m.\u001b[39mopen_baf_tic(path)\n\u001b[1;32m--> 107\u001b[0m data \u001b[38;5;241m=\u001b[39m \u001b[38;5;28;43mself\u001b[39;49m\u001b[38;5;241;43m.\u001b[39;49m\u001b[43mextract_scans\u001b[49m\u001b[43m(\u001b[49m\u001b[43mscanstart\u001b[49m\u001b[38;5;241;43m=\u001b[39;49m\u001b[43mscanstart\u001b[49m\u001b[43m,\u001b[49m\u001b[43m \u001b[49m\u001b[43mscanend\u001b[49m\u001b[38;5;241;43m=\u001b[39;49m\u001b[43mscanend\u001b[49m\u001b[43m)\u001b[49m\n\u001b[0;32m    108\u001b[0m \u001b[38;5;28mself\u001b[39m\u001b[38;5;241m.\u001b[39mdata \u001b[38;5;241m=\u001b[39m data\n\u001b[0;32m    109\u001b[0m \u001b[38;5;28;01mreturn\u001b[39;00m \u001b[38;5;28mself\u001b[39m\u001b[38;5;241m.\u001b[39mname, data\n",
      "File \u001b[1;32m~\\Documents\\GitHub\\MS-Analysis\\baf2sql2unidec.py:74\u001b[0m, in \u001b[0;36mBafSpectrum.extract_scans\u001b[1;34m(self, scanstart, scanend, rt, conn, baf_fn, mean)\u001b[0m\n\u001b[0;32m     70\u001b[0m \u001b[38;5;28;01mif\u001b[39;00m \u001b[38;5;129;01mnot\u001b[39;00m \u001b[38;5;28mall\u001b[39m(row) \u001b[38;5;241m==\u001b[39m \u001b[38;5;28;01mFalse\u001b[39;00m: \u001b[38;5;66;03m# check for None values\u001b[39;00m\n\u001b[0;32m     72\u001b[0m     bs \u001b[38;5;241m=\u001b[39m baf2sql\u001b[38;5;241m.\u001b[39mBinaryStorage(baf_fn)\n\u001b[1;32m---> 74\u001b[0m     profile_mz \u001b[38;5;241m=\u001b[39m \u001b[43mbs\u001b[49m\u001b[38;5;241;43m.\u001b[39;49m\u001b[43mreadArrayDouble\u001b[49m\u001b[43m(\u001b[49m\u001b[43mrow\u001b[49m\u001b[43m[\u001b[49m\u001b[38;5;241;43m2\u001b[39;49m\u001b[43m]\u001b[49m\u001b[43m)\u001b[49m\n\u001b[0;32m     75\u001b[0m     profile_int \u001b[38;5;241m=\u001b[39m bs\u001b[38;5;241m.\u001b[39mreadArrayDouble(row[\u001b[38;5;241m3\u001b[39m])\n\u001b[0;32m     77\u001b[0m     \u001b[38;5;28mself\u001b[39m\u001b[38;5;241m.\u001b[39mspec_vals[\u001b[38;5;124m'\u001b[39m\u001b[38;5;124mprofile_mz\u001b[39m\u001b[38;5;124m'\u001b[39m]\u001b[38;5;241m.\u001b[39mappend(profile_mz)\n",
      "File \u001b[1;32m~\\Documents\\GitHub\\MS-Analysis\\baf2sql.py:86\u001b[0m, in \u001b[0;36mBinaryStorage.readArrayDouble\u001b[1;34m(self, id)\u001b[0m\n\u001b[0;32m     84\u001b[0m \u001b[38;5;28;01mdef\u001b[39;00m \u001b[38;5;21mreadArrayDouble\u001b[39m (\u001b[38;5;28mself\u001b[39m, \u001b[38;5;28mid\u001b[39m):\n\u001b[0;32m     85\u001b[0m \u001b[38;5;250m    \u001b[39m\u001b[38;5;124;03m\"\"\"Returns the requested array as a double np.array.\"\"\"\u001b[39;00m\n\u001b[1;32m---> 86\u001b[0m     buf \u001b[38;5;241m=\u001b[39m np\u001b[38;5;241m.\u001b[39mempty(shape\u001b[38;5;241m=\u001b[39m\u001b[38;5;28;43mself\u001b[39;49m\u001b[38;5;241;43m.\u001b[39;49m\u001b[43mgetArrayNumElements\u001b[49m\u001b[43m(\u001b[49m\u001b[38;5;28;43mid\u001b[39;49m\u001b[43m)\u001b[49m, dtype\u001b[38;5;241m=\u001b[39mnp\u001b[38;5;241m.\u001b[39mfloat64)\n\u001b[0;32m     87\u001b[0m     \u001b[38;5;28;01mif\u001b[39;00m \u001b[38;5;129;01mnot\u001b[39;00m \u001b[38;5;28mself\u001b[39m\u001b[38;5;241m.\u001b[39mdll\u001b[38;5;241m.\u001b[39mbaf2sql_array_read_double(\u001b[38;5;28mself\u001b[39m\u001b[38;5;241m.\u001b[39mhandle, \u001b[38;5;28mid\u001b[39m, buf\u001b[38;5;241m.\u001b[39mctypes\u001b[38;5;241m.\u001b[39mdata_as(POINTER(c_double))):\n\u001b[0;32m     88\u001b[0m         throwLastBaf2SqlError(\u001b[38;5;28mself\u001b[39m\u001b[38;5;241m.\u001b[39mdll)\n",
      "File \u001b[1;32m~\\Documents\\GitHub\\MS-Analysis\\baf2sql.py:81\u001b[0m, in \u001b[0;36mBinaryStorage.getArrayNumElements\u001b[1;34m(self, id)\u001b[0m\n\u001b[0;32m     79\u001b[0m n \u001b[38;5;241m=\u001b[39m c_uint64(\u001b[38;5;241m0\u001b[39m)\n\u001b[0;32m     80\u001b[0m \u001b[38;5;28;01mif\u001b[39;00m \u001b[38;5;129;01mnot\u001b[39;00m \u001b[38;5;28mself\u001b[39m\u001b[38;5;241m.\u001b[39mdll\u001b[38;5;241m.\u001b[39mbaf2sql_array_get_num_elements(\u001b[38;5;28mself\u001b[39m\u001b[38;5;241m.\u001b[39mhandle, \u001b[38;5;28mid\u001b[39m, n):\n\u001b[1;32m---> 81\u001b[0m     \u001b[43mthrowLastBaf2SqlError\u001b[49m\u001b[43m(\u001b[49m\u001b[38;5;28;43mself\u001b[39;49m\u001b[38;5;241;43m.\u001b[39;49m\u001b[43mdll\u001b[49m\u001b[43m)\u001b[49m\n\u001b[0;32m     82\u001b[0m \u001b[38;5;28;01mreturn\u001b[39;00m n\u001b[38;5;241m.\u001b[39mvalue\n",
      "File \u001b[1;32m~\\Documents\\GitHub\\MS-Analysis\\baf2sql.py:30\u001b[0m, in \u001b[0;36mthrowLastBaf2SqlError\u001b[1;34m(dll_handle)\u001b[0m\n\u001b[0;32m     28\u001b[0m buf \u001b[38;5;241m=\u001b[39m create_string_buffer(\u001b[38;5;28mlen\u001b[39m)\n\u001b[0;32m     29\u001b[0m dll_handle\u001b[38;5;241m.\u001b[39mbaf2sql_get_last_error_string(buf, \u001b[38;5;28mlen\u001b[39m)\n\u001b[1;32m---> 30\u001b[0m \u001b[38;5;28;01mraise\u001b[39;00m \u001b[38;5;167;01mRuntimeError\u001b[39;00m(buf\u001b[38;5;241m.\u001b[39mvalue)\n",
      "\u001b[1;31mRuntimeError\u001b[0m: b'Error reading BAF files.'"
     ]
    }
   ],
   "source": [
    "spectra_names = [x for x in os.listdir(directory) if x[-2:] == \".d\"]\n",
    "\n",
    "spectra = []\n",
    "for s in spectra_names:\n",
    "    path = os.path.join(directory, s)\n",
    "    spectrum = BafSpectrum()\n",
    "    spectrum.export_scans_from_file(path, scanstart = scans[0], scanend = scans[1])\n",
    "    spectrum.plot_tic(show_scans=True)\n",
    "    spectra.append(spectrum)"
   ]
  },
  {
   "cell_type": "code",
   "execution_count": null,
   "id": "c8e5886e",
   "metadata": {},
   "outputs": [],
   "source": [
    "hdf5_name = os.path.split(directory)[1]+\".hdf5\"\n",
    "\n",
    "hdf5_path = os.path.join(directory, hdf5_name)\n",
    "eng= MetaUniDec()\n",
    "eng.data.new_file(hdf5_path)"
   ]
  },
  {
   "cell_type": "code",
   "execution_count": null,
   "id": "7a8ef87e",
   "metadata": {},
   "outputs": [],
   "source": [
    "plot=True\n",
    "for s in spectra:\n",
    "    \n",
    "    eng.data.add_data(s.data2, name=s.name, export=False)\n",
    "    if plot:\n",
    "        plt.plot(s.data2[:, 0], s.data2[:,1])\n",
    "        plt.show()\n",
    "eng.data.export_hdf5()"
   ]
  },
  {
   "cell_type": "code",
   "execution_count": null,
   "id": "0e5d967c",
   "metadata": {},
   "outputs": [],
   "source": [
    "len(spectra)"
   ]
  },
  {
   "cell_type": "code",
   "execution_count": null,
   "id": "cf892a4d",
   "metadata": {},
   "outputs": [],
   "source": [
    "# Parameters\n",
    "# UniDec\n",
    "eng.config.minmz=700\n",
    "eng.config.numit = 100\n",
    "eng.config.zzsig = 1\n",
    "eng.config.psig = 1\n",
    "eng.config.beta = 1\n",
    "eng.config.startz = 1\n",
    "eng.config.endz = 100\n",
    "eng.config.numz = 100\n",
    "eng.config.mzsig = 0.85\n",
    "eng.config.automzsig = 0\n",
    "eng.config.psfun = 0\n",
    "eng.config.psfunz = 0\n",
    "eng.config.autopsfun = 0\n",
    "eng.config.massub = 17000\n",
    "eng.config.masslb = 10000\n",
    "eng.config.msig = 0\n",
    "eng.config.molig = 0\n",
    "eng.config.massbins = 1\n",
    "eng.config.adductmass = 1.007276467\n",
    "eng.config.baselineflag = 1\n",
    "eng.config.aggressiveflag = 0\n",
    "eng.config.noiseflag = 0\n",
    "eng.config.isotopemode = 0\n",
    "eng.config.orbimode = 0\n",
    "\n",
    "# Other\n",
    "eng.config.mtabsig = 0\n",
    "eng.config.poolflag = 2\n",
    "eng.config.nativezub = 1000\n",
    "eng.config.nativezlb = -1000\n",
    "eng.config.inflate = 1\n",
    "eng.config.linflag = 2\n",
    "eng.config.integratelb = \"\"\n",
    "eng.config.integrateub = \"\"\n",
    "eng.config.filterwidth = 20\n",
    "eng.config.zerolog = -12\n",
    "\n",
    "eng.config.datanorm = 1\n",
    "eng.config.subuff=100\n",
    "eng.config.subtype=2\n",
    "\n",
    "# peak picking\n",
    "eng.config.peakwindow = 10\n",
    "eng.config.peaknorm = 0\n",
    "eng.config.peakplotthresh = 0.1 \n",
    "eng.config.peakthresh = 0.01\n",
    "\n",
    "\n",
    "eng.config.datanorm = 0\n",
    "eng.config.exnorm = 0\n",
    "eng.config.write_hdf5()"
   ]
  },
  {
   "cell_type": "code",
   "execution_count": null,
   "id": "79f98dd3",
   "metadata": {
    "scrolled": true
   },
   "outputs": [],
   "source": [
    "# eng.config.__dict__"
   ]
  },
  {
   "cell_type": "code",
   "execution_count": null,
   "id": "128d011c",
   "metadata": {},
   "outputs": [],
   "source": [
    "eng.open(hdf5_path)\n",
    "eng.process_data()\n",
    "\n",
    "eng.run_unidec()\n"
   ]
  },
  {
   "cell_type": "code",
   "execution_count": null,
   "id": "c9030bc2",
   "metadata": {
    "scrolled": false
   },
   "outputs": [],
   "source": [
    "for s in eng.data.spectra:\n",
    "    \n",
    "    plt.plot(s.massdat[:,0],s.massdat[:,1],)\n",
    "    plt.title(s.name)\n",
    "    # plt.xlim([13000, 14000])\n",
    "    plt.show()"
   ]
  },
  {
   "cell_type": "code",
   "execution_count": null,
   "id": "40f0cb3e",
   "metadata": {},
   "outputs": [],
   "source": [
    "eng.config.peakthresh = 0.05\n",
    "\n",
    "eng.pick_peaks()"
   ]
  },
  {
   "cell_type": "code",
   "execution_count": null,
   "id": "1c70d5b2",
   "metadata": {},
   "outputs": [],
   "source": [
    "# eng.config.beta"
   ]
  },
  {
   "cell_type": "code",
   "execution_count": null,
   "id": "4cfa5aa7",
   "metadata": {
    "scrolled": false
   },
   "outputs": [],
   "source": [
    "for s in eng.data.spectra:\n",
    "    print(s.name)\n",
    "    \n",
    "    for p in s.pks.peaks:\n",
    "        print(p.mass, p.height, p.label, p.matcherror)\n",
    "    print(\"~~~~~~~~~~~~~~~~~~~~~~~~~~~~~~~~~~\")\n",
    "    "
   ]
  },
  {
   "cell_type": "code",
   "execution_count": null,
   "id": "3b511b74",
   "metadata": {
    "scrolled": false
   },
   "outputs": [],
   "source": [
    "for s in eng.data.spectra:\n",
    "    print(s.name)\n",
    "    \n",
    "    # match peaks to oligos\n",
    "    match(s.pks.peaks, masslist, names, tolerance)\n",
    "    \n",
    "    \n",
    "    \n",
    "    plt.plot(s.massdat[:,0],s.massdat[:,1],)\n",
    "    for p in s.pks.peaks:\n",
    "#         plt.scatter(p.mass, p.height)\n",
    "        if p.label != \"\":\n",
    "            plt.scatter(p.mass, p.height, color = p.color)\n",
    "    plt.show()\n",
    "    \n",
    "# dct = {\"Label\":label, \"Mass\":mass, \"Height\":height, \"Name\":s_name}    "
   ]
  },
  {
   "cell_type": "code",
   "execution_count": null,
   "id": "0ac7c786",
   "metadata": {
    "scrolled": true
   },
   "outputs": [],
   "source": [
    "dfs = []\n",
    "for s in eng.data.spectra:\n",
    "    counter = 0\n",
    "    label = []\n",
    "    mass = []\n",
    "    height = []\n",
    "    for p in s.pks.peaks:\n",
    "\n",
    "        if p.label !=\"\":\n",
    "\n",
    "            label.append(p.label)\n",
    "            mass.append(p.mass)\n",
    "            height.append(p.height)\n",
    "            counter = counter+1\n",
    "    s_name = [s.name]*counter\n",
    "\n",
    "    dct = {\"Label\":label, \"Mass\":mass, \"Height\":height, \"Name\":s_name}\n",
    "    df = pd.DataFrame(dct)\n",
    "    df['Percentage_Labelling'] = (df.Height/df.Height.sum())*100\n",
    "    dfs.append(df)\n",
    "results_df = pd.concat(dfs)"
   ]
  },
  {
   "cell_type": "code",
   "execution_count": null,
   "id": "2b3addb2",
   "metadata": {},
   "outputs": [],
   "source": [
    "results_df"
   ]
  },
  {
   "cell_type": "code",
   "execution_count": null,
   "id": "80c895f4",
   "metadata": {},
   "outputs": [],
   "source": [
    "# df3 = pd.DataFrame(results_df.Name)\n"
   ]
  },
  {
   "cell_type": "code",
   "execution_count": null,
   "id": "dcb3fddd",
   "metadata": {},
   "outputs": [],
   "source": [
    "# results_df"
   ]
  },
  {
   "cell_type": "code",
   "execution_count": null,
   "id": "ad019f60",
   "metadata": {},
   "outputs": [],
   "source": [
    "results2 = pd.pivot(results_df, index='Name', columns='Label', values = 'Percentage_Labelling').fillna(0)\n",
    "\n",
    "results2.reset_index(inplace=True)\n",
    "results2"
   ]
  },
  {
   "cell_type": "code",
   "execution_count": null,
   "id": "3383ce00",
   "metadata": {},
   "outputs": [],
   "source": [
    "# split Name for conditions \n",
    "results2[[\"date\", \"ID\", \"peptide\", \"PfAPP_cond\", \"pf\", \"temp\", \"degrees\", \"time\", \"hrs\"]] = results2.Name.str.split(\" \", expand=True)\n"
   ]
  },
  {
   "cell_type": "code",
   "execution_count": null,
   "id": "1eed4681",
   "metadata": {},
   "outputs": [],
   "source": [
    "# conditions_input_df = pd.read_excel(os.path.join(directory, \"Conditions_input.xlsx\"))"
   ]
  },
  {
   "cell_type": "code",
   "execution_count": null,
   "id": "ac6f1917",
   "metadata": {},
   "outputs": [],
   "source": [
    "# results2.Name = results2['Name'].str.rstrip('.d')"
   ]
  },
  {
   "cell_type": "code",
   "execution_count": null,
   "id": "be328208",
   "metadata": {},
   "outputs": [],
   "source": [
    "# results2 = conditions_input_df.merge(results2, how='left', on=\"Name\")"
   ]
  },
  {
   "cell_type": "code",
   "execution_count": null,
   "id": "0511091b",
   "metadata": {},
   "outputs": [],
   "source": [
    "# results2"
   ]
  },
  {
   "cell_type": "code",
   "execution_count": null,
   "id": "a7a799c2",
   "metadata": {},
   "outputs": [],
   "source": [
    "results_name = os.path.split(directory)[1]+\"_results.xlsx\"\n",
    "results_path = os.path.join(directory,results_name)\n",
    "results2.to_excel(results_path)"
   ]
  }
 ],
 "metadata": {
  "kernelspec": {
   "display_name": "Python 3 (ipykernel)",
   "language": "python",
   "name": "python3"
  },
  "language_info": {
   "codemirror_mode": {
    "name": "ipython",
    "version": 3
   },
   "file_extension": ".py",
   "mimetype": "text/x-python",
   "name": "python",
   "nbconvert_exporter": "python",
   "pygments_lexer": "ipython3",
   "version": "3.8.18"
  }
 },
 "nbformat": 4,
 "nbformat_minor": 5
}
