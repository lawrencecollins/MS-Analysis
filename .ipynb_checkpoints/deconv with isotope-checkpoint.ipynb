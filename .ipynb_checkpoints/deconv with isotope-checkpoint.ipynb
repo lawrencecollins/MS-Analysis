{
 "cells": [
  {
   "cell_type": "code",
   "execution_count": 1,
   "metadata": {},
   "outputs": [],
   "source": [
    "from UniDec import unidec\n",
    "import matplotlib.pyplot as plt\n",
    "import numpy as np\n",
    "import sqlite3\n",
    "import numpy as np\n",
    "from ctypes import *\n",
    "import sys\n",
    "import os\n",
    "import baf2sql"
   ]
  },
  {
   "cell_type": "code",
   "execution_count": 2,
   "metadata": {},
   "outputs": [
    {
     "name": "stdout",
     "output_type": "stream",
     "text": [
      "Specified BAF has 159 spectra with line and profile data.\n"
     ]
    }
   ],
   "source": [
    "analysis_dir = \"example_analysis.d\"\n",
    "\n",
    "# --- data extraction using baf2sql DLL \n",
    "\n",
    "if sys.version_info.major == 2:\n",
    "    # note: assuming a european Windows here...\n",
    "    analysis_dir = unicode(analysis_dir, 'cp1252')\n",
    "    \n",
    "baf_fn = os.path.join(analysis_dir, \"analysis.baf\")\n",
    "sqlite_fn = baf2sql.getSQLiteCacheFilename(baf_fn)\n",
    "conn = sqlite3.connect(sqlite_fn)\n",
    "\n",
    "# --- Count spectra\n",
    "q = conn.execute(\"SELECT COUNT(*) FROM Spectra \"\n",
    "                 \"WHERE LineMzId NOT NULL AND ProfileMzId NOT NULL\")\n",
    "row = q.fetchone()\n",
    "N = row[0]\n",
    "print(\"Specified BAF has {} spectra with line and profile data.\".format(N))\n",
    "\n",
    "# --- Plot TIC and BPC over MS^1 spectra\n",
    "q = conn.execute(\"SELECT Rt, SumIntensity, MaxIntensity FROM Spectra s \"\n",
    "                 \"JOIN AcquisitionKeys ak ON s.AcquisitionKey = ak.Id \"\n",
    "                 \"WHERE ak.MsLevel = 0 \"\n",
    "                 \"ORDER BY s.ROWID\")\n",
    "data = [ row for row in q ]\n",
    "rt = [ row[0] for row in data ]\n",
    "tic = [ row[1] for row in data ]\n",
    "bpc = [ row[2] for row in data ]\n",
    "\n",
    "# plt.figure()\n",
    "# plt.plot(rt, tic)\n",
    "# # plt.hold(True)\n",
    "# plt.plot(rt, bpc, '--')\n",
    "# plt.xlabel('retention time / s')\n",
    "# plt.ylabel('intensity / a.u.')\n",
    "# plt.legend(['TIC', 'BPC'])\n",
    "# plt.show()\n",
    "\n",
    "\n",
    "# --- Plot mean spectrum within time window\n",
    "\n",
    "np_bpc = np.array(bpc, dtype = 'float')\n",
    "\n",
    "# get time window around base-peak intensity \n",
    "rt_range = rt[np.nanargmax(np_bpc) - 5: np.nanargmax(np_bpc) + 6]\n",
    "\n",
    "spec_vals = {'profile_mz':[], 'profile_int':[], 'line_mz':[], 'line_int':[]}\n",
    "\n",
    "for i in rt_range: \n",
    "\n",
    "    q = conn.execute(\"SELECT LineMzId, LineIntensityId, ProfileMzId, ProfileIntensityId FROM Spectra \"\n",
    "                    \"WHERE ABS(Rt - {}) < 1e-8\".format(i))\n",
    "                \n",
    "    row = q.fetchone()\n",
    "\n",
    "    bs = baf2sql.BinaryStorage(baf_fn)\n",
    "\n",
    "    if not all(row) == False: # check for None values\n",
    "\n",
    "        bs = baf2sql.BinaryStorage(baf_fn)\n",
    "\n",
    "        profile_mz = bs.readArrayDouble(row[2])\n",
    "        profile_int = bs.readArrayDouble(row[3])\n",
    "\n",
    "        spec_vals['profile_mz'].append(profile_mz)\n",
    "        spec_vals['profile_int'].append(profile_int)\n",
    "\n",
    "\n",
    "        line_mz = bs.readArrayDouble(row[0])\n",
    "        line_int = bs.readArrayDouble(row[1])\n",
    "\n",
    "        # stem() can take quite some time, so we reduce data for this example:\n",
    "\n",
    "        max_points = 100;\n",
    "\n",
    "        if len(line_mz) > max_points:\n",
    "            line_mz = line_mz[0:max_points]\n",
    "            line_int = line_int[0:max_points]\n",
    "        \n",
    "        spec_vals['line_mz'].append(line_mz)\n",
    "        spec_vals['line_int'].append(line_int)\n",
    "\n",
    "\n"
   ]
  },
  {
   "cell_type": "code",
   "execution_count": 11,
   "metadata": {},
   "outputs": [],
   "source": [
    "# --- plot mean data within a time window \n",
    "\n",
    "# convert resulting spectra values into arrays\n",
    "np_profile_mz = np.array(spec_vals['profile_mz'])\n",
    "np_profile_int = np.array(spec_vals['profile_int'])\n",
    "\n",
    "# np_line_mz = np.array(spec_vals['line_mz'])\n",
    "# np_line_int = np.array(spec_vals['line_int'])\n",
    "\n",
    "# take average of arrays \n",
    "mean_profile_mz = np.average(np_profile_mz, axis = 0)\n",
    "mean_profile_int = np.average(np_profile_int, axis = 0)\n",
    "# mean_line_mz = np.average(np_profile_mz, axis = 0)\n",
    "# mean_line_int = np.average(np_profile_mz, axis = 0)\n",
    "\n",
    "# plt.figure(dpi = 120)\n",
    "\n",
    "# # plot profile spectrum\n",
    "# plt.plot(mean_profile_mz, mean_profile_int, linewidth = 0.5, color = 'red')\n",
    "\n",
    "# # # plot line spectrum\n",
    "# # plt.stem(line_mz, line_int)\n",
    "\n",
    "# plt.xlabel(\"m/z / Th\")\n",
    "# plt.ylabel('intensity / a.u.')\n",
    "# plt.title(\"Mean Spectrum between {}s and {}s\".format(rt_range[0], rt_range[-1]))\n",
    "# plt.show()"
   ]
  },
  {
   "cell_type": "code",
   "execution_count": 12,
   "metadata": {},
   "outputs": [],
   "source": [
    "# --- TEMPORARY SOLUTION: make .txt file and subsequently upload into unidec engine \n",
    "# begin unidec engine here? \n",
    "\n",
    "\n",
    "mean_data = np.array([mean_profile_mz, mean_profile_int]).T\n",
    "np.savetxt(\"mean_data2.txt\", mean_data, delimiter = \"\\t\")"
   ]
  },
  {
   "cell_type": "code",
   "execution_count": 14,
   "metadata": {},
   "outputs": [
    {
     "name": "stdout",
     "output_type": "stream",
     "text": [
      "\n",
      "UniDec Engine v.4.4.0\n",
      "\n",
      "UniDec Path: C:\\Users\\cm19ljc\\Documents\\GitHub\\MS-Analysis\\UniDec\\unidec_bin\\UniDec.exe\n",
      "Opening File:  mean_data2.txt\n",
      "Loading Time: 5.2s\n",
      "Linear False\n",
      "Data Prep Time: 3.1s\n",
      "Automatic Peak Width: 0.03111\n",
      "UniDec run 1.6s\n",
      "File Name:  mean_data2.txt R Squared:  0.9765782529410972\n"
     ]
    },
    {
     "data": {
      "text/plain": [
       "0"
      ]
     },
     "execution_count": 14,
     "metadata": {},
     "output_type": "execute_result"
    }
   ],
   "source": [
    "eng = unidec.UniDec()\n",
    "eng.open_file(\"mean_data2.txt\")\n",
    "# -- Data processing\n",
    "eng.config.subbuff = 100 # background subtraction (subtract curved)\n",
    "\n",
    "eng.process_data()\n",
    "\n",
    "# -- Deconvolution\n",
    "# mass range \n",
    "eng.config.massub = 13200 # upper \n",
    "eng.config.masslb = 11600 # lower\n",
    "eng.config.massbins = 0.1 # sample mass ever 0.1 Da\n",
    "\n",
    "# generate FWHM \n",
    "eng.get_auto_peak_width()\n",
    "\n",
    "# charge range\n",
    "eng.config.startz = 1\n",
    "eng.config.endz = 20\n",
    "\n",
    "# smoothing \n",
    "eng.config.zzsig = 1.0 # charge smooth width (smooth charge state distributions)\n",
    "eng.config.psig = 1.0 # point smooth width (remove some artifacts)\n",
    "\n",
    "eng.psfun = 2 # split G/L \n",
    "\n",
    "eng.run_unidec()"
   ]
  },
  {
   "cell_type": "code",
   "execution_count": 16,
   "metadata": {},
   "outputs": [
    {
     "data": {
      "image/png": "[encoded data removed]",
      "text/plain": [
       "<Figure size 432x288 with 1 Axes>"
      ]
     },
     "metadata": {
      "needs_background": "light"
     },
     "output_type": "display_data"
    }
   ],
   "source": [
    "# check peak\n",
    "mass_dist_data = np.loadtxt(\"mean_data1_unidecfiles/mean_data1_mass.txt\")\n",
    "\n",
    "plt.plot(mass_dist_data[:, 0], mass_dist_data[:, 1])\n",
    "plt.xlim(12715, 12740)\n",
    "plt.xlabel('Mass (Da)')\n",
    "plt.ylabel('Intensity')\n",
    "plt.show()"
   ]
  },
  {
   "cell_type": "code",
   "execution_count": 20,
   "metadata": {},
   "outputs": [
    {
     "name": "stdout",
     "output_type": "stream",
     "text": [
      "Exported data to mean_data2_unidecfiles\\mean_data2_chargedata.dat\n",
      "Mass MassStdGuess AvgCharge StdDevCharge Height Area MassCentroid MassFWHM MassErrorBetweenZ\n",
      "[[ 11813.20  0.28  9.13  1.58  30.74  53.62  11813.16  0.70  0.26]\n",
      " [ 12727.40  0.29  9.22  1.41  100.00  100.00  12727.41  0.60  0.33]]\n",
      "Peak Parameters (Saved To mean_data2_unidecfiles\\mean_data2_peakparam.dat )\n"
     ]
    }
   ],
   "source": [
    "# pick peaks and extract info\n",
    "eng.pick_peaks()\n",
    "eng.export_params(0)"
   ]
  },
  {
   "cell_type": "code",
   "execution_count": 22,
   "metadata": {},
   "outputs": [
    {
     "data": {
      "image/png": "[encoded data removed]",
      "text/plain": [
       "<Figure size 432x288 with 1 Axes>"
      ]
     },
     "metadata": {
      "needs_background": "light"
     },
     "output_type": "display_data"
    }
   ],
   "source": [
    "xvals = eng.data.massdat[:, 0]\n",
    "yvals = eng.data.massdat[:, 1]\n",
    "\n",
    "plt.plot(xvals, yvals)\n",
    "plt.show()"
   ]
  },
  {
   "cell_type": "code",
   "execution_count": 23,
   "metadata": {},
   "outputs": [
    {
     "data": {
      "image/png": "[encoded data removed]",
      "text/plain": [
       "<Figure size 432x288 with 1 Axes>"
      ]
     },
     "metadata": {
      "needs_background": "light"
     },
     "output_type": "display_data"
    }
   ],
   "source": [
    "eng.process_mass_data()\n",
    "\n",
    "xvals = eng.data.massdat[:, 0]\n",
    "yvals = eng.data.massdat[:, 1]\n",
    "\n",
    "plt.plot(xvals, yvals)\n",
    "plt.show()"
   ]
  }
 ],
 "metadata": {
  "kernelspec": {
   "display_name": "Python 3",
   "language": "python",
   "name": "python3"
  },
  "language_info": {
   "codemirror_mode": {
    "name": "ipython",
    "version": 3
   },
   "file_extension": ".py",
   "mimetype": "text/x-python",
   "name": "python",
   "nbconvert_exporter": "python",
   "pygments_lexer": "ipython3",
   "version": "3.8.5"
  }
 },
 "nbformat": 4,
 "nbformat_minor": 4
}
