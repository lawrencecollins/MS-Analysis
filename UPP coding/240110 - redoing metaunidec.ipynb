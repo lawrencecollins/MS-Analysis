{
 "cells": [
  {
   "cell_type": "code",
   "execution_count": 1,
   "id": "9ac112fd",
   "metadata": {},
   "outputs": [],
   "source": [
    "import batch_LJC as batch\n",
    "import unidec\n",
    "# from unidec import ChromEngine\n",
    "from unidec.metaunidec.mudeng import MetaUniDec\n",
    "from unidec.modules.ChromEng import ChromEngine"
   ]
  },
  {
   "cell_type": "code",
   "execution_count": 2,
   "id": "7a4b1f80",
   "metadata": {},
   "outputs": [
    {
     "name": "stdout",
     "output_type": "stream",
     "text": [
      "\n",
      "UniDec Engine v.6.0.4\n",
      "\n",
      "UniDec Path: C:\\Users\\cm19ljc\\Anaconda3\\envs\\unidec3\\lib\\site-packages\\unidec\\bin\\unidec.exe\n",
      "\n",
      "UniDec Engine v.6.0.4\n",
      "\n",
      "UniDec Path: C:\\Users\\cm19ljc\\Anaconda3\\envs\\unidec3\\lib\\site-packages\\unidec\\bin\\unidec.exe\n",
      "Opening:  220127 PanZ labelling B_342038_RD5_01_82551.mzML\n",
      "Opening Time: 0.005630799999999603\n",
      "Reading mzML: C:\\Users\\cm19ljc\\OneDrive VERSION 2\\OneDrive - University of Leeds\\RESEARCH\\DATA\\AccMass\\220710 data copy\\processed\\220127 PanZ labelling B_342038_RD5_01_82551.mzML\n",
      "[Warning] Not index found and build_index_from_scratch is False\n",
      "Converted to gzip file to improve speed: C:\\Users\\cm19ljc\\OneDrive VERSION 2\\OneDrive - University of Leeds\\RESEARCH\\DATA\\AccMass\\220710 data copy\\processed\\220127 PanZ labelling B_342038_RD5_01_82551.mzML.gz\n"
     ]
    },
    {
     "ename": "ParseError",
     "evalue": "no element found: line 3339, column 2378239 (<string>)",
     "output_type": "error",
     "traceback": [
      "Traceback \u001b[1;36m(most recent call last)\u001b[0m:\n",
      "\u001b[0m  File \u001b[0;32m~\\Anaconda3\\envs\\unidec3\\lib\\site-packages\\IPython\\core\\interactiveshell.py:3508\u001b[0m in \u001b[0;35mrun_code\u001b[0m\n    exec(code_obj, self.user_global_ns, self.user_ns)\u001b[0m\n",
      "\u001b[0m  Cell \u001b[0;32mIn[2], line 8\u001b[0m\n    eng.open_chrom(path)\u001b[0m\n",
      "\u001b[0m  File \u001b[0;32m~\\Anaconda3\\envs\\unidec3\\lib\\site-packages\\unidec\\modules\\ChromEng.py:45\u001b[0m in \u001b[0;35mopen_chrom\u001b[0m\n    load_hdf5 = self.load_mzml(self.path, load_hdf5, refresh=refresh)\u001b[0m\n",
      "\u001b[0m  File \u001b[0;32m~\\Anaconda3\\envs\\unidec3\\lib\\site-packages\\unidec\\modules\\ChromEng.py:90\u001b[0m in \u001b[0;35mload_mzml\u001b[0m\n    self.chromdat = ud.get_importer(path)\u001b[0m\n",
      "\u001b[0m  File \u001b[0;32m~\\Anaconda3\\envs\\unidec3\\lib\\site-packages\\unidec\\tools.py:63\u001b[0m in \u001b[0;35mget_importer\u001b[0m\n    d = mzMLimporter(path, gzmode=True)\u001b[0m\n",
      "\u001b[0m  File \u001b[0;32m~\\Anaconda3\\envs\\unidec3\\lib\\site-packages\\unidec\\modules\\mzMLimporter.py:247\u001b[0m in \u001b[0;35m__init__\u001b[0m\n    for i, spectrum in enumerate(self.msrun):\u001b[0m\n",
      "\u001b[0m  File \u001b[0;32m~\\Anaconda3\\envs\\unidec3\\lib\\site-packages\\pymzml\\run.py:153\u001b[0m in \u001b[0;35m__next__\u001b[0m\n    event, element = next(self.iter, (\"END\", \"END\"))\u001b[0m\n",
      "\u001b[0m  File \u001b[0;32m~\\Anaconda3\\envs\\unidec3\\lib\\xml\\etree\\ElementTree.py:1233\u001b[0m in \u001b[0;35miterator\u001b[0m\n    root = pullparser._close_and_return_root()\u001b[0m\n",
      "\u001b[1;36m  File \u001b[1;32m~\\Anaconda3\\envs\\unidec3\\lib\\xml\\etree\\ElementTree.py:1280\u001b[1;36m in \u001b[1;35m_close_and_return_root\u001b[1;36m\n\u001b[1;33m    root = self._parser.close()\u001b[1;36m\n",
      "\u001b[1;36m  File \u001b[1;32m<string>\u001b[1;36m\u001b[0m\n\u001b[1;31mParseError\u001b[0m\u001b[1;31m:\u001b[0m no element found: line 3339, column 2378239\n"
     ]
    }
   ],
   "source": [
    "directory = \"D:\\\\WORK\\Meta2_test_dir\\\\\"\n",
    "path = \"C:\\\\Users\\\\cm19ljc\\\\OneDrive VERSION 2\\\\OneDrive - University of Leeds\\\\RESEARCH\\\\DATA\\\\AccMass\\\\220710 data copy\\\\processed\\\\220127 PanZ labelling B_342038_RD5_01_82551.mzML\"\n",
    "# paths = [\"D:\\\\WORK\\\\Meta2_test_dir\\\\20230710 4C_24h_1.mzML\"]\n",
    "# eng = MetaUniDec()\n",
    "# eng.import_mzml(paths)\n",
    "eng = ChromEngine()\n",
    "\n",
    "eng.open_chrom(path)"
   ]
  },
  {
   "cell_type": "code",
   "execution_count": 14,
   "id": "d530c69d",
   "metadata": {},
   "outputs": [
    {
     "data": {
      "text/plain": [
       "<unidec.modules.unidecstructure.UniDecConfig at 0x1f3662539a0>"
      ]
     },
     "execution_count": 14,
     "metadata": {},
     "output_type": "execute_result"
    }
   ],
   "source": [
    "eng.config"
   ]
  },
  {
   "cell_type": "code",
   "execution_count": null,
   "id": "5560f15b",
   "metadata": {},
   "outputs": [],
   "source": [
    "# # # time range\n",
    "# # # from unidec import batch\n",
    "# eng = batch.UniDecBatchProcessor()\n",
    "# # eng = unidec.UniDec()\n",
    "\n"
   ]
  },
  {
   "cell_type": "code",
   "execution_count": null,
   "id": "0967faa5",
   "metadata": {},
   "outputs": [],
   "source": [
    "path = \"C:\\\\Users\\\\cm19ljc\\\\OneDrive VERSION 2\\\\OneDrive - University of Leeds\\\\RESEARCH\\\\DATA\\\\AccMass Analysis\\\\230927 UPP example data\\\\UPP test input.xlsx\"\n",
    "eng.run_file(path, decon=True, use_converted=False, interactive =False)"
   ]
  }
 ],
 "metadata": {
  "kernelspec": {
   "display_name": "Python 3 (ipykernel)",
   "language": "python",
   "name": "python3"
  },
  "language_info": {
   "codemirror_mode": {
    "name": "ipython",
    "version": 3
   },
   "file_extension": ".py",
   "mimetype": "text/x-python",
   "name": "python",
   "nbconvert_exporter": "python",
   "pygments_lexer": "ipython3",
   "version": "3.8.18"
  }
 },
 "nbformat": 4,
 "nbformat_minor": 5
}
