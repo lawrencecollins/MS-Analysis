{
 "cells": [
  {
   "cell_type": "code",
   "execution_count": 1,
   "id": "9ac112fd",
   "metadata": {},
   "outputs": [],
   "source": [
    "import batch_LJC as batch\n",
    "import unidec"
   ]
  },
  {
   "cell_type": "code",
   "execution_count": 3,
   "id": "7281841f",
   "metadata": {},
   "outputs": [
    {
     "name": "stdout",
     "output_type": "stream",
     "text": [
      "\n",
      "UniDec Engine v.6.0.4\n",
      "\n",
      "UniDec Path: C:\\Users\\cm19ljc\\Anaconda3\\envs\\unidec3\\lib\\site-packages\\unidec\\bin\\unidec.exe\n",
      "Opening File: C:\\Users\\cm19ljc\\AppData\\Roaming\\jupyter\\runtime\\kernel-2fef7b7c-6174-40da-bfd0-4768acf0ae2f.json\n",
      "Opening File:  C:\\Users\\cm19ljc\\AppData\\Roaming\\jupyter\\runtime\\kernel-2fef7b7c-6174-40da-bfd0-4768acf0ae2f.json\n",
      "Output Directory: C:\\Users\\cm19ljc\\AppData\\Roaming\\jupyter\\runtime\\kernel-2fef7b7c-6174-40da-bfd0-4768acf0ae2f_unidecfiles\n",
      "Header Length: 12\n",
      "Error: Data Array is Empty\n",
      "Likely an error with data conversion\n"
     ]
    },
    {
     "ename": "ImportError",
     "evalue": "",
     "output_type": "error",
     "traceback": [
      "\u001b[1;31m---------------------------------------------------------------------------\u001b[0m",
      "\u001b[1;31mImportError\u001b[0m                               Traceback (most recent call last)",
      "Cell \u001b[1;32mIn[3], line 4\u001b[0m\n\u001b[0;32m      1\u001b[0m \u001b[38;5;66;03m# # time range\u001b[39;00m\n\u001b[0;32m      2\u001b[0m \u001b[38;5;66;03m# # from unidec import batch\u001b[39;00m\n\u001b[0;32m      3\u001b[0m \u001b[38;5;66;03m# eng = batch.UniDecBatchProcessor()\u001b[39;00m\n\u001b[1;32m----> 4\u001b[0m eng \u001b[38;5;241m=\u001b[39m \u001b[43munidec\u001b[49m\u001b[38;5;241;43m.\u001b[39;49m\u001b[43mUniDec\u001b[49m\u001b[43m(\u001b[49m\u001b[43m)\u001b[49m\n",
      "File \u001b[1;32m~\\Anaconda3\\envs\\unidec3\\lib\\site-packages\\unidec\\engine.py:81\u001b[0m, in \u001b[0;36mUniDec.__init__\u001b[1;34m(self, *args, **kwargs)\u001b[0m\n\u001b[0;32m     79\u001b[0m             \u001b[38;5;28mprint\u001b[39m(\u001b[38;5;124m\"\u001b[39m\u001b[38;5;124mOpening File:\u001b[39m\u001b[38;5;124m\"\u001b[39m, \u001b[38;5;28mself\u001b[39m\u001b[38;5;241m.\u001b[39minfile)\n\u001b[0;32m     80\u001b[0m \u001b[38;5;28;01mif\u001b[39;00m \u001b[38;5;28mself\u001b[39m\u001b[38;5;241m.\u001b[39minfile \u001b[38;5;129;01mis\u001b[39;00m \u001b[38;5;129;01mnot\u001b[39;00m \u001b[38;5;28;01mNone\u001b[39;00m:\n\u001b[1;32m---> 81\u001b[0m     \u001b[38;5;28;43mself\u001b[39;49m\u001b[38;5;241;43m.\u001b[39;49m\u001b[43mopen_file\u001b[49m\u001b[43m(\u001b[49m\u001b[38;5;28;43mself\u001b[39;49m\u001b[38;5;241;43m.\u001b[39;49m\u001b[43minfile\u001b[49m\u001b[43m)\u001b[49m\n\u001b[0;32m     82\u001b[0m     \u001b[38;5;28mself\u001b[39m\u001b[38;5;241m.\u001b[39mautorun()\n\u001b[0;32m     83\u001b[0m \u001b[38;5;28;01mpass\u001b[39;00m\n",
      "File \u001b[1;32m~\\Anaconda3\\envs\\unidec3\\lib\\site-packages\\unidec\\engine.py:148\u001b[0m, in \u001b[0;36mUniDec.open_file\u001b[1;34m(self, file_name, file_directory, time_range, refresh, load_results, *args, **kwargs)\u001b[0m\n\u001b[0;32m    146\u001b[0m     \u001b[38;5;28mprint\u001b[39m(\u001b[38;5;124m\"\u001b[39m\u001b[38;5;124mError: Data Array is Empty\u001b[39m\u001b[38;5;124m\"\u001b[39m)\n\u001b[0;32m    147\u001b[0m     \u001b[38;5;28mprint\u001b[39m(\u001b[38;5;124m\"\u001b[39m\u001b[38;5;124mLikely an error with data conversion\u001b[39m\u001b[38;5;124m\"\u001b[39m)\n\u001b[1;32m--> 148\u001b[0m     \u001b[38;5;28;01mraise\u001b[39;00m \u001b[38;5;167;01mImportError\u001b[39;00m\n\u001b[0;32m    150\u001b[0m \u001b[38;5;28;01mif\u001b[39;00m \u001b[38;5;28mself\u001b[39m\u001b[38;5;241m.\u001b[39mdata\u001b[38;5;241m.\u001b[39mrawdata\u001b[38;5;241m.\u001b[39mshape[\u001b[38;5;241m1\u001b[39m] \u001b[38;5;241m==\u001b[39m \u001b[38;5;241m3\u001b[39m:\n\u001b[0;32m    151\u001b[0m     \u001b[38;5;28mself\u001b[39m\u001b[38;5;241m.\u001b[39mconfig\u001b[38;5;241m.\u001b[39mimflag \u001b[38;5;241m=\u001b[39m \u001b[38;5;241m1\u001b[39m\n",
      "\u001b[1;31mImportError\u001b[0m: "
     ]
    }
   ],
   "source": [
    "# # time range\n",
    "# # from unidec import batch\n",
    "eng = batch.UniDecBatchProcessor()\n",
    "# eng = unidec.UniDec()"
   ]
  },
  {
   "cell_type": "code",
   "execution_count": null,
   "id": "001354bb",
   "metadata": {},
   "outputs": [],
   "source": [
    "eng"
   ]
  }
 ],
 "metadata": {
  "kernelspec": {
   "display_name": "Python 3 (ipykernel)",
   "language": "python",
   "name": "python3"
  },
  "language_info": {
   "codemirror_mode": {
    "name": "ipython",
    "version": 3
   },
   "file_extension": ".py",
   "mimetype": "text/x-python",
   "name": "python",
   "nbconvert_exporter": "python",
   "pygments_lexer": "ipython3",
   "version": "3.8.18"
  }
 },
 "nbformat": 4,
 "nbformat_minor": 5
}
