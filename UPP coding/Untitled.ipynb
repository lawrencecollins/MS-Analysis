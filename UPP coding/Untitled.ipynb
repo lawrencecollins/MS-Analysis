{
 "cells": [
  {
   "cell_type": "code",
   "execution_count": 1,
   "id": "9ac112fd",
   "metadata": {},
   "outputs": [],
   "source": [
    "import batch_LJC as batch\n",
    "import unidec"
   ]
  },
  {
   "cell_type": "code",
   "execution_count": 2,
   "id": "5560f15b",
   "metadata": {},
   "outputs": [
    {
     "name": "stdout",
     "output_type": "stream",
     "text": [
      "\n",
      "UniDec Engine v.6.0.4\n",
      "\n",
      "UniDec Path: C:\\Users\\cm19ljc\\Anaconda3\\envs\\unidec3\\lib\\site-packages\\unidec\\bin\\unidec.exe\n"
     ]
    }
   ],
   "source": [
    "# # time range\n",
    "# # from unidec import batch\n",
    "eng = batch.UniDecBatchProcessor()\n",
    "# eng = unidec.UniDec()"
   ]
  },
  {
   "cell_type": "code",
   "execution_count": 3,
   "id": "0967faa5",
   "metadata": {},
   "outputs": [
    {
     "name": "stdout",
     "output_type": "stream",
     "text": [
      "Opening: C:\\Users\\cm19ljc\\OneDrive VERSION 2\\OneDrive - University of Leeds\\RESEARCH\\DATA\\AccMass Analysis\\230927 UPP example data\\221219 LC170 15 mins_364464.mzML\n",
      "Refreshing\n",
      "Reading mzML: C:\\Users\\cm19ljc\\OneDrive VERSION 2\\OneDrive - University of Leeds\\RESEARCH\\DATA\\AccMass Analysis\\230927 UPP example data\\221219 LC170 15 mins_364464.mzML\n",
      "[Warning] Not index found and build_index_from_scratch is False\n",
      "Error with loading mzML file: mismatched tag: line 1447, column 2\n",
      "Reading mzML: C:\\Users\\cm19ljc\\OneDrive VERSION 2\\OneDrive - University of Leeds\\RESEARCH\\DATA\\AccMass Analysis\\230927 UPP example data\\221219 LC170 15 mins_364464.mzML\n",
      "[Warning] Not index found and build_index_from_scratch is False\n"
     ]
    },
    {
     "ename": "ParseError",
     "evalue": "mismatched tag: line 1447, column 2 (<string>)",
     "output_type": "error",
     "traceback": [
      "Traceback \u001b[1;36m(most recent call last)\u001b[0m:\n",
      "\u001b[0m  File \u001b[0;32m~\\Anaconda3\\envs\\unidec3\\lib\\site-packages\\unidec\\tools.py:1028\u001b[0m in \u001b[0;35mload_mz_file\u001b[0m\n    data = mzMLimporter(path).get_data(time_range=time_range)\u001b[0m\n",
      "\u001b[0m  File \u001b[0;32m~\\Anaconda3\\envs\\unidec3\\lib\\site-packages\\unidec\\modules\\mzMLimporter.py:247\u001b[0m in \u001b[0;35m__init__\u001b[0m\n    for i, spectrum in enumerate(self.msrun):\u001b[0m\n",
      "\u001b[0m  File \u001b[0;32m~\\Anaconda3\\envs\\unidec3\\lib\\site-packages\\pymzml\\run.py:153\u001b[0m in \u001b[0;35m__next__\u001b[0m\n    event, element = next(self.iter, (\"END\", \"END\"))\u001b[0m\n",
      "\u001b[0m  File \u001b[0;32m~\\Anaconda3\\envs\\unidec3\\lib\\xml\\etree\\ElementTree.py:1227\u001b[0m in \u001b[0;35miterator\u001b[0m\n    yield from pullparser.read_events()\u001b[0m\n",
      "\u001b[0m  File \u001b[0;32m~\\Anaconda3\\envs\\unidec3\\lib\\xml\\etree\\ElementTree.py:1302\u001b[0m in \u001b[0;35mread_events\u001b[0m\n    raise event\u001b[0m\n",
      "\u001b[1;36m  File \u001b[1;32m~\\Anaconda3\\envs\\unidec3\\lib\\xml\\etree\\ElementTree.py:1274\u001b[1;36m in \u001b[1;35mfeed\u001b[1;36m\n\u001b[1;33m    self._parser.feed(data)\u001b[1;36m\n",
      "\u001b[1;36m  File \u001b[1;32m<string>\u001b[1;36m\u001b[0m\n\u001b[1;31mParseError\u001b[0m\u001b[1;31m:\u001b[0m mismatched tag: line 1447, column 2\n",
      "\nDuring handling of the above exception, another exception occurred:\n",
      "Traceback \u001b[1;36m(most recent call last)\u001b[0m:\n",
      "\u001b[0m  File \u001b[0;32m~\\Anaconda3\\envs\\unidec3\\lib\\site-packages\\IPython\\core\\interactiveshell.py:3508\u001b[0m in \u001b[0;35mrun_code\u001b[0m\n    exec(code_obj, self.user_global_ns, self.user_ns)\u001b[0m\n",
      "\u001b[0m  Cell \u001b[0;32mIn[3], line 2\u001b[0m\n    eng.run_file(path, decon=True, use_converted=False, interactive =False)\u001b[0m\n",
      "\u001b[0m  File \u001b[0;32m~\\Documents\\GitHub\\MS-Analysis\\UPP coding\\batch_LJC.py:452\u001b[0m in \u001b[0;35mrun_file\u001b[0m\n    self.run_df(decon=decon, use_converted=use_converted, interactive=interactive)\u001b[0m\n",
      "\u001b[0m  File \u001b[0;32m~\\Documents\\GitHub\\MS-Analysis\\UPP coding\\batch_LJC.py:496\u001b[0m in \u001b[0;35mrun_df\u001b[0m\n    self.eng.open_file(path, time_range=self.time_range, refresh=not use_converted, silent=True)\u001b[0m\n",
      "\u001b[0m  File \u001b[0;32m~\\Anaconda3\\envs\\unidec3\\lib\\site-packages\\unidec\\engine.py:143\u001b[0m in \u001b[0;35mopen_file\u001b[0m\n    self.data.rawdata = ud.load_mz_file(self.config.filename, self.config, time_range, imflag=self.config.imflag)\u001b[0m\n",
      "\u001b[0m  File \u001b[0;32m~\\Anaconda3\\envs\\unidec3\\lib\\site-packages\\unidec\\tools.py:1031\u001b[0m in \u001b[0;35mload_mz_file\u001b[0m\n    data = mzMLimporter(path, nogz=True).get_data(time_range=time_range)\u001b[0m\n",
      "\u001b[0m  File \u001b[0;32m~\\Anaconda3\\envs\\unidec3\\lib\\site-packages\\unidec\\modules\\mzMLimporter.py:247\u001b[0m in \u001b[0;35m__init__\u001b[0m\n    for i, spectrum in enumerate(self.msrun):\u001b[0m\n",
      "\u001b[0m  File \u001b[0;32m~\\Anaconda3\\envs\\unidec3\\lib\\site-packages\\pymzml\\run.py:153\u001b[0m in \u001b[0;35m__next__\u001b[0m\n    event, element = next(self.iter, (\"END\", \"END\"))\u001b[0m\n",
      "\u001b[0m  File \u001b[0;32m~\\Anaconda3\\envs\\unidec3\\lib\\xml\\etree\\ElementTree.py:1227\u001b[0m in \u001b[0;35miterator\u001b[0m\n    yield from pullparser.read_events()\u001b[0m\n",
      "\u001b[0m  File \u001b[0;32m~\\Anaconda3\\envs\\unidec3\\lib\\xml\\etree\\ElementTree.py:1302\u001b[0m in \u001b[0;35mread_events\u001b[0m\n    raise event\u001b[0m\n",
      "\u001b[1;36m  File \u001b[1;32m~\\Anaconda3\\envs\\unidec3\\lib\\xml\\etree\\ElementTree.py:1274\u001b[1;36m in \u001b[1;35mfeed\u001b[1;36m\n\u001b[1;33m    self._parser.feed(data)\u001b[1;36m\n",
      "\u001b[1;36m  File \u001b[1;32m<string>\u001b[1;36m\u001b[0m\n\u001b[1;31mParseError\u001b[0m\u001b[1;31m:\u001b[0m mismatched tag: line 1447, column 2\n"
     ]
    }
   ],
   "source": [
    "path = \"C:\\\\Users\\\\cm19ljc\\\\OneDrive VERSION 2\\\\OneDrive - University of Leeds\\\\RESEARCH\\\\DATA\\\\AccMass Analysis\\\\230927 UPP example data\\\\UPP test input.xlsx\"\n",
    "eng.run_file(path, decon=True, use_converted=False, interactive =False)"
   ]
  }
 ],
 "metadata": {
  "kernelspec": {
   "display_name": "Python 3 (ipykernel)",
   "language": "python",
   "name": "python3"
  },
  "language_info": {
   "codemirror_mode": {
    "name": "ipython",
    "version": 3
   },
   "file_extension": ".py",
   "mimetype": "text/x-python",
   "name": "python",
   "nbconvert_exporter": "python",
   "pygments_lexer": "ipython3",
   "version": "3.8.18"
  }
 },
 "nbformat": 4,
 "nbformat_minor": 5
}
