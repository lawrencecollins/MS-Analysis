{
 "cells": [
  {
   "cell_type": "code",
   "execution_count": 1,
   "id": "570cc5e7",
   "metadata": {},
   "outputs": [],
   "source": [
    "from meta_processing import *\n",
    "import matplotlib \n",
    "import seaborn as sns\n",
    "import numpy as np\n",
    "import matplotlib.pyplot as plt\n",
    "import ms_plotter_tools as msp\n",
    "matplotlib.rcParams['font.family'] = 'serif'"
   ]
  },
  {
   "cell_type": "code",
   "execution_count": 2,
   "id": "920367c6",
   "metadata": {
    "scrolled": false
   },
   "outputs": [
    {
     "name": "stdout",
     "output_type": "stream",
     "text": [
      "\n",
      "UniDec Engine v.6.0.4\n",
      "\n",
      "UniDec Path: C:\\Users\\cm19ljc\\Anaconda3\\envs\\unidec3\\lib\\site-packages\\unidec\\bin\\unidec.exe\n",
      "Specified BAF has 739 spectra with line and profile data.\n",
      "Adding: 240214 abraxas labelling_1-1-47_1_9482.d to ms_dataset\n",
      "Mass Grid Warning: (0,) (0,)\n",
      "mz grid Warning: (0,) (0,)\n",
      "Opening Time: 0.28672060000000066\n",
      "masslb 15000\n",
      "massub 50000\n",
      "massbins 1\n",
      "peakwindow 10\n",
      "peakthresh 0.05\n",
      "minmz 700\n",
      "maxmz nan\n",
      "startz 1\n",
      "endz 100\n",
      "numz 100\n",
      "numit 60\n",
      "Mass Grid Warning: (0,) (0,)\n",
      "mz grid Warning: (0,) (0,)\n",
      "Opening Time: 0.20698710000000098\n",
      "Execution Time: 1.204287299999999\n",
      "Mass Grid Warning: (0,) (0,)\n",
      "mz grid Warning: (0,) (0,)\n",
      "Execution Time: 51.1572742\n",
      "Mass Grid Warning: (0,) (0,)\n",
      "mz grid Warning: (0,) (0,)\n",
      "Execution Time: 1.0311056999999977\n",
      "Peak info saved to: D:\\mass spec 2\\240215 abraxas labelling\\UniDec_Figures_and_Files\\240215 abraxas labelling_extracts.txt\n",
      "Done thresholds\n",
      "attempt to get argmin of an empty sequence\n"
     ]
    }
   ],
   "source": [
    "# load engine\n",
    "# make sure to restart computer to refresh RAM!!!\n",
    "path = \"D:\\\\mass spec 2\\\\240215 abraxas labelling\\\\Meta2_input_file_abraxas.xlsx\"\n",
    "eng = Meta2()\n",
    "# load input file and run deconvolution\n",
    "eng.load_input_file(path, unzip=True, clearhdf5=True, var_ids=False)\n",
    "eng.on_unidec()"
   ]
  },
  {
   "cell_type": "code",
   "execution_count": 3,
   "id": "f069e13f",
   "metadata": {},
   "outputs": [
    {
     "data": {
      "text/html": [
       "<div>\n",
       "<style scoped>\n",
       "    .dataframe tbody tr th:only-of-type {\n",
       "        vertical-align: middle;\n",
       "    }\n",
       "\n",
       "    .dataframe tbody tr th {\n",
       "        vertical-align: top;\n",
       "    }\n",
       "\n",
       "    .dataframe thead th {\n",
       "        text-align: right;\n",
       "    }\n",
       "</style>\n",
       "<table border=\"1\" class=\"dataframe\">\n",
       "  <thead>\n",
       "    <tr style=\"text-align: right;\">\n",
       "      <th></th>\n",
       "      <th>Parameter</th>\n",
       "      <th>Input</th>\n",
       "      <th>Comments</th>\n",
       "    </tr>\n",
       "  </thead>\n",
       "  <tbody>\n",
       "    <tr>\n",
       "      <th>0</th>\n",
       "      <td>Directory</td>\n",
       "      <td>D:\\mass spec 2\\240215 abraxas labelling</td>\n",
       "      <td>NaN</td>\n",
       "    </tr>\n",
       "    <tr>\n",
       "      <th>1</th>\n",
       "      <td>Start Scan</td>\n",
       "      <td>490</td>\n",
       "      <td>NaN</td>\n",
       "    </tr>\n",
       "    <tr>\n",
       "      <th>2</th>\n",
       "      <td>End Scan</td>\n",
       "      <td>540</td>\n",
       "      <td>NaN</td>\n",
       "    </tr>\n",
       "    <tr>\n",
       "      <th>3</th>\n",
       "      <td>Tolerance (Da)</td>\n",
       "      <td>10</td>\n",
       "      <td>Peak matching tolerance</td>\n",
       "    </tr>\n",
       "    <tr>\n",
       "      <th>4</th>\n",
       "      <td>Config masslb</td>\n",
       "      <td>15000</td>\n",
       "      <td>Deconvolution window low mass</td>\n",
       "    </tr>\n",
       "    <tr>\n",
       "      <th>5</th>\n",
       "      <td>Config massub</td>\n",
       "      <td>50000</td>\n",
       "      <td>Deconvolution window high mass</td>\n",
       "    </tr>\n",
       "    <tr>\n",
       "      <th>6</th>\n",
       "      <td>Config massbins</td>\n",
       "      <td>1</td>\n",
       "      <td>Mass bins for deconvolution - sample mass every</td>\n",
       "    </tr>\n",
       "    <tr>\n",
       "      <th>7</th>\n",
       "      <td>Config peakwindow</td>\n",
       "      <td>10</td>\n",
       "      <td>NaN</td>\n",
       "    </tr>\n",
       "    <tr>\n",
       "      <th>8</th>\n",
       "      <td>Config peakthresh</td>\n",
       "      <td>0.05</td>\n",
       "      <td>NaN</td>\n",
       "    </tr>\n",
       "    <tr>\n",
       "      <th>9</th>\n",
       "      <td>Config minmz</td>\n",
       "      <td>700</td>\n",
       "      <td>m/z lower bounds (defaults to 0)</td>\n",
       "    </tr>\n",
       "    <tr>\n",
       "      <th>10</th>\n",
       "      <td>Config maxmz</td>\n",
       "      <td>NaN</td>\n",
       "      <td>m/z upper bounds (defaults to 10e12)</td>\n",
       "    </tr>\n",
       "    <tr>\n",
       "      <th>11</th>\n",
       "      <td>Config startz</td>\n",
       "      <td>1</td>\n",
       "      <td>NaN</td>\n",
       "    </tr>\n",
       "    <tr>\n",
       "      <th>12</th>\n",
       "      <td>Config endz</td>\n",
       "      <td>100</td>\n",
       "      <td>NaN</td>\n",
       "    </tr>\n",
       "    <tr>\n",
       "      <th>13</th>\n",
       "      <td>Config numz</td>\n",
       "      <td>100</td>\n",
       "      <td>NaN</td>\n",
       "    </tr>\n",
       "    <tr>\n",
       "      <th>14</th>\n",
       "      <td>Config numit</td>\n",
       "      <td>60</td>\n",
       "      <td>number of iterations of deconvolution algorithm</td>\n",
       "    </tr>\n",
       "  </tbody>\n",
       "</table>\n",
       "</div>"
      ],
      "text/plain": [
       "            Parameter                                    Input  \\\n",
       "0           Directory  D:\\mass spec 2\\240215 abraxas labelling   \n",
       "1          Start Scan                                      490   \n",
       "2            End Scan                                      540   \n",
       "3      Tolerance (Da)                                       10   \n",
       "4       Config masslb                                    15000   \n",
       "5       Config massub                                    50000   \n",
       "6     Config massbins                                        1   \n",
       "7   Config peakwindow                                       10   \n",
       "8   Config peakthresh                                     0.05   \n",
       "9        Config minmz                                      700   \n",
       "10       Config maxmz                                      NaN   \n",
       "11      Config startz                                        1   \n",
       "12        Config endz                                      100   \n",
       "13        Config numz                                      100   \n",
       "14       Config numit                                       60   \n",
       "\n",
       "                                           Comments  \n",
       "0                                               NaN  \n",
       "1                                               NaN  \n",
       "2                                               NaN  \n",
       "3                          Peak matching tolerance   \n",
       "4                     Deconvolution window low mass  \n",
       "5                    Deconvolution window high mass  \n",
       "6   Mass bins for deconvolution - sample mass every  \n",
       "7                                               NaN  \n",
       "8                                               NaN  \n",
       "9                  m/z lower bounds (defaults to 0)  \n",
       "10             m/z upper bounds (defaults to 10e12)  \n",
       "11                                              NaN  \n",
       "12                                              NaN  \n",
       "13                                              NaN  \n",
       "14  number of iterations of deconvolution algorithm  "
      ]
     },
     "execution_count": 3,
     "metadata": {},
     "output_type": "execute_result"
    }
   ],
   "source": [
    "eng.params"
   ]
  },
  {
   "cell_type": "code",
   "execution_count": 6,
   "id": "67ffdf0a",
   "metadata": {
    "scrolled": true
   },
   "outputs": [
    {
     "name": "stdout",
     "output_type": "stream",
     "text": [
      "Fig exported to:  D:\\mass spec 2\\240215 abraxas labelling\\UniDec_Figures_and_Files\\240214 abraxas labelling_1-1-47_1_9482.d_massdat_30000_50000_img.svg\n"
     ]
    }
   ],
   "source": [
    "spectra = eng.eng.data.spectra\n",
    "\n",
    "# add in zoomed function that plots over window using min and max masses contained in masslist \n",
    "msp.plot_spectra_separate(spectra, attr = \"massdat\", xlabel = \"Mass [Da]\", \n",
    "                          export=True, c='black',lw=0.7,\n",
    "                         show_peaks=False,legend=False, directory =eng.directory,fmt='svg', window=[30000, 50000])\n",
    "\n",
    "# msp.plot_spectra_separate(spectra, attr = \"data2\", xlabel = \"m/z\", export=False)\n",
    "\n",
    "\n",
    "\n",
    "    "
   ]
  },
  {
   "cell_type": "code",
   "execution_count": null,
   "id": "134fa455",
   "metadata": {},
   "outputs": [],
   "source": [
    "help(msp.plot_spectra_separate)"
   ]
  },
  {
   "cell_type": "code",
   "execution_count": null,
   "id": "653431a3",
   "metadata": {},
   "outputs": [],
   "source": [
    "self = eng\n",
    "\n",
    "masslist = list(self.species['Mass'])\n",
    "names = list(self.species['Species'])\n",
    "self.match_spectra(masslist, names, self.tolerance, background=True)\n",
    "# self.export_data()\n"
   ]
  },
  {
   "cell_type": "code",
   "execution_count": null,
   "id": "43382008",
   "metadata": {
    "scrolled": false
   },
   "outputs": [],
   "source": [
    "# msp.plot_spectra_combined(spectra,cmap='gray',title=os.path.split(eng.directory)[-1], \n",
    "#                           show_titles=False, show_peaks=False,\n",
    "#                          directory=eng.directory,export=True)"
   ]
  },
  {
   "cell_type": "code",
   "execution_count": null,
   "id": "fb12b64e",
   "metadata": {},
   "outputs": [],
   "source": [
    "eng.colors_dict\n"
   ]
  },
  {
   "cell_type": "code",
   "execution_count": null,
   "id": "db6a6e6d",
   "metadata": {},
   "outputs": [],
   "source": [
    "# colors_dict = pd.Series(eng.colors.Color.values,index=eng.colors.Species.values, ).to_dict()"
   ]
  },
  {
   "cell_type": "code",
   "execution_count": null,
   "id": "e1d405f8",
   "metadata": {},
   "outputs": [],
   "source": [
    "colors_dict"
   ]
  },
  {
   "cell_type": "code",
   "execution_count": null,
   "id": "e62d9705",
   "metadata": {},
   "outputs": [],
   "source": [
    "# fig, ax = plt.subplots()\n",
    "# eng.results1['Species'] = eng.results1['Name']\n",
    "# sns.barplot(eng.results1, x='Species', y='Percentage_Labelling', hue='Label',palette= colors_dict)\n",
    "# ax.set_ylim(0, 100)\n",
    "# ax.set_ylabel(\"% Labelling\")\n",
    "\n",
    "# ax.legend(loc = 'right',bbox_to_anchor=(1.4, 0.8))\n",
    "# ax.tick_params(axis='x', labelrotation=10, labelsize='x-small')\n",
    "# ax.spines['right'].set_visible(False)\n",
    "# ax.spines['top'].set_visible(False)"
   ]
  },
  {
   "cell_type": "code",
   "execution_count": null,
   "id": "c7a9048e",
   "metadata": {},
   "outputs": [],
   "source": [
    "eng.colors.drop('Comments',axis=1, inplace=True)"
   ]
  },
  {
   "cell_type": "code",
   "execution_count": null,
   "id": "a1bc1e4b",
   "metadata": {},
   "outputs": [],
   "source": [
    "eng.var_ids"
   ]
  },
  {
   "cell_type": "code",
   "execution_count": null,
   "id": "187224fb",
   "metadata": {},
   "outputs": [],
   "source": [
    "df=df_partial_str_merge(eng.results1,eng.var_ids,'Name')"
   ]
  },
  {
   "cell_type": "code",
   "execution_count": null,
   "id": "41cf3adf",
   "metadata": {},
   "outputs": [],
   "source": [
    "df"
   ]
  },
  {
   "cell_type": "code",
   "execution_count": null,
   "id": "01ca5b6f",
   "metadata": {},
   "outputs": [],
   "source": [
    "eng.results_df"
   ]
  },
  {
   "cell_type": "code",
   "execution_count": null,
   "id": "cbf5b4cf",
   "metadata": {},
   "outputs": [],
   "source": [
    "res = eng.results1\n",
    "\n",
    "df1=res\n",
    "df2 = eng.var_ids"
   ]
  },
  {
   "cell_type": "code",
   "execution_count": null,
   "id": "eacc23d7",
   "metadata": {},
   "outputs": [],
   "source": [
    "eng.results1"
   ]
  },
  {
   "cell_type": "code",
   "execution_count": null,
   "id": "ec5ededb",
   "metadata": {},
   "outputs": [],
   "source": [
    "x=\"H5D\"\n",
    "y='Time'\n",
    "z='GVSEYG'\n",
    "c = 'Percentage_Labelling'\n",
    "on='CTB-LPETGVSEYG'\n",
    "fig = plt.figure()\n",
    "ax = fig.add_subplot(111, projection='3d', )\n",
    "df=df2\n",
    "df = df[df['Label']==on]\n",
    "scatter = ax.scatter(df[x], df[y], df[z], c=df[c], cmap='PiYG', marker='o',s=df[c]*10,edgecolor='black' )\n",
    "ax.set_xlabel(x)\n",
    "ax.set_ylabel(y)\n",
    "ax.set_zlabel(z)\n",
    "cbar = plt.colorbar(scatter)\n",
    "cbar.set_label(c)\n",
    "# ax.set_proj_type('persp', focal_length=0.2)\n",
    "ax.grid(False)"
   ]
  },
  {
   "cell_type": "code",
   "execution_count": null,
   "id": "5b5c965f",
   "metadata": {},
   "outputs": [],
   "source": [
    "eng.species[['Species', 'Mass', 'Color']].dropna(subset=['Mass'])"
   ]
  },
  {
   "cell_type": "code",
   "execution_count": null,
   "id": "cac73b31",
   "metadata": {},
   "outputs": [],
   "source": [
    "variables = pd.read_excel(\"Meta2_input_file_v3.xlsx\", sheet_name=1)\n",
    "variables\n",
    "\n",
    "\n",
    "# hydrolysis/versus labelled ratio ??????????"
   ]
  },
  {
   "cell_type": "code",
   "execution_count": null,
   "id": "25974bcd",
   "metadata": {},
   "outputs": [],
   "source": [
    "x=\"H5D\"\n",
    "y='Time'\n",
    "z='GVSEYG'\n",
    "c = 'Percentage_Labelling'\n",
    "on='CTB-LPETGVSEYG'\n",
    "fig = plt.figure()\n",
    "\n",
    "\n",
    "\n",
    "ax = fig.add_subplot(111, projection='3d', )\n",
    "df=df2\n",
    "df = df[df['Label']==on]\n",
    "scatter = ax.scatter(df[x], df[y], df[z], c=df[c], cmap='PiYG', marker='o',s=df[c]*10,edgecolor='black' )\n",
    "\n",
    "ax.set_xlabel(x)\n",
    "ax.set_ylabel(y)\n",
    "ax.set_zlabel(z)\n",
    "cbar = plt.colorbar(scatter)\n",
    "cbar.set_label(c)\n",
    "\n",
    "on =\"CTB-LPET\"\n",
    "df=df2\n",
    "df = df[df['Label']==on]\n",
    "\n",
    "scatter = ax.scatter(df[x], df[y], df[z], c=df[c], cmap='Reds', marker='x',s=df[c]*10, )\n",
    "# cbar = plt.colorbar(scatter)\n",
    "\n",
    "# ax.set_proj_type('persp', focal_length=0.2)\n",
    "ax.grid(False)\n",
    "plt.tight_layout()\n",
    "\n",
    "plt.show()"
   ]
  },
  {
   "cell_type": "code",
   "execution_count": null,
   "id": "cd4a4b8d",
   "metadata": {},
   "outputs": [],
   "source": [
    "# r = '({})'.format('|'.join(df2.Name))\n",
    "# merge_df = df1.Name.str.extract(r, expand=False).fillna(df1.Name)\n",
    "# df2=df2.merge(df1.drop('Name', axis=1), left_on='Name', right_on=merge_df, how='outer')\n",
    "# df2"
   ]
  }
 ],
 "metadata": {
  "kernelspec": {
   "display_name": "Python 3 (ipykernel)",
   "language": "python",
   "name": "python3"
  },
  "language_info": {
   "codemirror_mode": {
    "name": "ipython",
    "version": 3
   },
   "file_extension": ".py",
   "mimetype": "text/x-python",
   "name": "python",
   "nbconvert_exporter": "python",
   "pygments_lexer": "ipython3",
   "version": "3.8.18"
  }
 },
 "nbformat": 4,
 "nbformat_minor": 5
}
